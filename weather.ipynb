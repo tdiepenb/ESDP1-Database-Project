{
 "cells": [
  {
   "cell_type": "markdown",
   "metadata": {},
   "source": [
    "## Install Libraries"
   ]
  },
  {
   "cell_type": "code",
   "execution_count": 10,
   "metadata": {},
   "outputs": [
    {
     "name": "stdout",
     "output_type": "stream",
     "text": [
      "Requirement already satisfied: pandas in c:\\python312\\lib\\site-packages (2.2.2)\n",
      "Requirement already satisfied: numpy>=1.26.0 in c:\\python312\\lib\\site-packages (from pandas) (2.0.0)\n",
      "Requirement already satisfied: python-dateutil>=2.8.2 in c:\\users\\fabi\\appdata\\roaming\\python\\python312\\site-packages (from pandas) (2.9.0.post0)\n",
      "Requirement already satisfied: pytz>=2020.1 in c:\\python312\\lib\\site-packages (from pandas) (2024.1)\n",
      "Requirement already satisfied: tzdata>=2022.7 in c:\\python312\\lib\\site-packages (from pandas) (2024.1)\n",
      "Requirement already satisfied: six>=1.5 in c:\\python312\\lib\\site-packages (from python-dateutil>=2.8.2->pandas) (1.16.0)\n",
      "Requirement already satisfied: requests in c:\\python312\\lib\\site-packages (2.32.3)\n",
      "Requirement already satisfied: charset-normalizer<4,>=2 in c:\\python312\\lib\\site-packages (from requests) (3.3.2)\n",
      "Requirement already satisfied: idna<4,>=2.5 in c:\\python312\\lib\\site-packages (from requests) (3.7)\n",
      "Requirement already satisfied: urllib3<3,>=1.21.1 in c:\\python312\\lib\\site-packages (from requests) (2.2.1)\n",
      "Requirement already satisfied: certifi>=2017.4.17 in c:\\python312\\lib\\site-packages (from requests) (2024.6.2)\n"
     ]
    }
   ],
   "source": [
    "! pip install pandas\n",
    "! pip install requests"
   ]
  },
  {
   "cell_type": "markdown",
   "metadata": {},
   "source": [
    "## Import Libraries"
   ]
  },
  {
   "cell_type": "code",
   "execution_count": 4,
   "metadata": {},
   "outputs": [],
   "source": [
    "import pandas as pd\n",
    "from ftplib import FTP\n",
    "import requests   # more convenient for http(s) urls\n",
    "import numpy as np"
   ]
  },
  {
   "cell_type": "markdown",
   "metadata": {},
   "source": [
    "## Download Data"
   ]
  },
  {
   "cell_type": "markdown",
   "metadata": {},
   "source": [
    "The \"year\".csv files contain all daily and station elements found in GHCN daily for the given year.  These \n",
    "files are updated daily for the entire period of record.\n",
    "\n",
    "The following information serves as a definition of each field in one line of data covering one station-day. \n",
    "Each field described below is separated by a comma ( , ) and follows the order below:\n",
    "\n",
    "ID = 11 character station identification code\n",
    "YEAR/MONTH/DAY = 8 character date in YYYYMMDD format (e.g. 19860529 = May 29, 1986)\n",
    "ELEMENT = 4 character indicator of element type \n",
    "DATA VALUE = 5 character data value for ELEMENT \n",
    "M-FLAG = 1 character Measurement Flag \n",
    "Q-FLAG = 1 character Quality Flag \n",
    "S-FLAG = 1 character Source Flag \n",
    "OBS-TIME = 4-character time of observation in hour-minute format (i.e. 0700 =7:00 am)\n",
    "\n",
    "See section III of the GHCN-Daily readme.txt file (ftp://ftp.ncdc.noaa.gov/pub/data/ghcn/daily/readme.txt)\n",
    "for an explanation of ELEMENT codes and their units as well as the M-FLAG, Q-FLAG and S-FLAG.\n",
    "\n",
    "The OBS-TIME field is populated with the observation times contained in NOAA/NCEI's HOMR station history database.  "
   ]
  },
  {
   "cell_type": "code",
   "execution_count": 18,
   "metadata": {},
   "outputs": [
    {
     "name": "stdout",
     "output_type": "stream",
     "text": [
      "*cmd* 'CWD pub/data/ghcn/daily'\n",
      "*resp* '250 CWD command successful'\n",
      "*cmd* 'TYPE I'\n",
      "*resp* '200 Type set to I'\n",
      "*cmd* 'EPSV'\n",
      "*resp* '229 Entering Extended Passive Mode (|||63021|)'\n",
      "*cmd* 'RETR readme.txt'\n",
      "*resp* '150 Opening BINARY mode data connection for readme.txt (28140 bytes)'\n",
      "*resp* '226 Transfer complete'\n",
      "*cmd* 'QUIT'\n",
      "*resp* '221 Goodbye.'\n"
     ]
    }
   ],
   "source": [
    "url = \"ftp://ftp.ncei.noaa.gov/pub/data/ghcn/daily\"\n",
    "site, fpath = url.split(\"//\")[1].split(\"/\", 1)\n",
    "with FTP(site) as session:\n",
    "    session.login()  # \"anonymous\", \"your-email@uni-koeln.de\")\n",
    "    session.set_debuglevel(1)\n",
    "    session.cwd(fpath)\n",
    "    fname = \"readme.txt\"\n",
    "    with open(f\"./data/{fname}\", 'wb') as local_file:\n",
    "        session.retrbinary(f\"RETR {fname}\", local_file.write)"
   ]
  },
  {
   "cell_type": "code",
   "execution_count": 5,
   "metadata": {},
   "outputs": [
    {
     "name": "stdout",
     "output_type": "stream",
     "text": [
      "...Downloading data from year 1949....\n",
      "data downloaded. Will be saved as 1949.csv.gz\n",
      "Data from year 1949 downloaded and saved.\n",
      "...Downloading data from year 1950....\n",
      "data downloaded. Will be saved as 1950.csv.gz\n",
      "Data from year 1950 downloaded and saved.\n",
      "...Downloading data from year 1951....\n",
      "data downloaded. Will be saved as 1951.csv.gz\n",
      "Data from year 1951 downloaded and saved.\n",
      "...Downloading data from year 1952....\n",
      "data downloaded. Will be saved as 1952.csv.gz\n",
      "Data from year 1952 downloaded and saved.\n"
     ]
    }
   ],
   "source": [
    "years = [1949, 1950, 1951, 1952]\n",
    "\n",
    "for year in years:\n",
    "    print(f\"...Downloading data from year {year}....\")\n",
    "    url = f\"https://www.ncei.noaa.gov/pub/data/ghcn/daily/by_year/{year}.csv.gz\"\n",
    "    response = requests.get(url)\n",
    "    if response.ok:\n",
    "        filename = url.rsplit('/', 1)[1]\n",
    "        print(f\"data downloaded. Will be saved as {filename}\")\n",
    "        with open(f\"./data/weather/{filename}\", \"wb\") as f:\n",
    "            f.write(response.content)\n",
    "    else:\n",
    "        print(\"An error occured while trying to retrieve the data from the internet.\")\n",
    "    print(f\"Data from year {year} downloaded and saved.\")\n"
   ]
  },
  {
   "cell_type": "markdown",
   "metadata": {},
   "source": [
    "## Process Data\n",
    "\n",
    "### Stations Structure:\n",
    "| Column name | Desc | Data type |\n",
    "| --- | --- | --- |\n",
    "| ID | 11 character station identification code | Character |\n",
    "| YEAR/MONTH/DAY | 8 character date in YYYYMMDD format (e.g. 19860529 = May 29, 1986) | Character |\n",
    "| ELEMENT  | 4 character indicator of element type  | Character |\n",
    "| DATA VALUE | 5 character data value for ELEMENT | Character |\n",
    "| M-FLAG | 1 character Measurement Flag | Character |\n",
    "| Q-FLAG | 1 character Quality Flag | Character |\n",
    "| S-FLAG | 1 character Source Flag | Character |\n",
    "| OBS-TIME | 4-character time of observation in hour-minute format (i.e. 0700 =7:00 am) | Character |\n"
   ]
  },
  {
   "cell_type": "code",
   "execution_count": 14,
   "metadata": {},
   "outputs": [
    {
     "name": "stdout",
     "output_type": "stream",
     "text": [
      "          stationcode  datelabel param      value mflag qflag sflag time\n",
      "0         ACW00011604   19490101  TMAX  28.900000                 X     \n",
      "1         ACW00011604   19490101  TMIN  21.700001                 X     \n",
      "2         ACW00011604   19490101  PRCP   0.000000                 X     \n",
      "3         ACW00011604   19490101  SNOW   0.000000                 X     \n",
      "5         AG000060390   19490101  TMAX  16.600000                 G     \n",
      "...               ...        ...   ...        ...   ...   ...   ...  ...\n",
      "23787114  WZ004094600   19491231  PRCP   0.000000                 I     \n",
      "23787115  WZ004451000   19491231  PRCP   0.000000                 I     \n",
      "23787116  WZ004467410   19491231  PRCP  14.200000                 I     \n",
      "23787117  WZ004822290   19491231  PRCP   0.000000                 I     \n",
      "23787118  WZ004834260   19491231  PRCP  17.800001                 I     \n",
      "\n",
      "[18089254 rows x 8 columns]\n",
      "Processing of year 1949 finished.\n",
      "          stationcode  datelabel param      value mflag qflag sflag time\n",
      "0         ACW00011604   19490101  TMAX  28.900000                 X     \n",
      "1         ACW00011604   19490101  TMIN  21.700001                 X     \n",
      "2         ACW00011604   19490101  PRCP   0.000000                 X     \n",
      "3         ACW00011604   19490101  SNOW   0.000000                 X     \n",
      "5         AG000060390   19490101  TMAX  16.600000                 G     \n",
      "...               ...        ...   ...        ...   ...   ...   ...  ...\n",
      "23787114  WZ004094600   19491231  PRCP   0.000000                 I     \n",
      "23787115  WZ004451000   19491231  PRCP   0.000000                 I     \n",
      "23787116  WZ004467410   19491231  PRCP  14.200000                 I     \n",
      "23787117  WZ004822290   19491231  PRCP   0.000000                 I     \n",
      "23787118  WZ004834260   19491231  PRCP  17.800001                 I     \n",
      "\n",
      "[18089254 rows x 8 columns]\n"
     ]
    }
   ],
   "source": [
    "for year in years: \n",
    "    # hier nur drinne damit nicht direkt für alle Jahre gestartet wird\n",
    "    if year == years[0]:\n",
    "        print(f\"Year {year} processing.\")\n",
    "        file_path = f'./data/weather/{year}.csv.gz'\n",
    "        filename = f'./data/weather/{year}.csv.gz'\n",
    "\n",
    "        columns = [\"stationcode\", \"datelabel\", \"param\", \"value\", \"mflag\", \"qflag\", \"sflag\", \"time\"]\n",
    "        \n",
    "        df = pd.read_csv(filename, names=columns, compression=\"gzip\")\n",
    "\n",
    "        # convert values to float\n",
    "        df = df.astype({\"value\": \"float32\"})\n",
    "        \n",
    "\n",
    "        # cleanse dataset: keep only the parameters of interest, i.e. TMIN, TMAX, PRCP, SNOW\n",
    "        keep = [\"TMIN\", \"TMAX\", \"PRCP\", \"SNOW\"]\n",
    "\n",
    "        df = df[df[\"param\"].isin(keep)]\n",
    "\n",
    "        scaling_factors = {\"TMIN\": 0.1, \"TMAX\": 0.1, \"PRCP\": 0.1}\n",
    "\n",
    "        for k, v in scaling_factors.items():\n",
    "            df.loc[df[\"param\"]==k,\"value\"] *= v\n",
    "\n",
    "        # # df = df.replace(np.nan, '', regex=True)\n",
    "        # df.replace(['None', 'nan'], np.nan, inplace=True)\n",
    "        df = df.fillna('')\n",
    "\n",
    "        print(df)\n",
    "\n",
    "        print(f\"Processing of year {year} finished.\")\n",
    "\n",
    "        # df.to_csv(f\"./data/export/weather/modified_{year}.csv\", index=False)"
   ]
  },
  {
   "cell_type": "code",
   "execution_count": 15,
   "metadata": {},
   "outputs": [
    {
     "data": {
      "text/html": [
       "<div>\n",
       "<style scoped>\n",
       "    .dataframe tbody tr th:only-of-type {\n",
       "        vertical-align: middle;\n",
       "    }\n",
       "\n",
       "    .dataframe tbody tr th {\n",
       "        vertical-align: top;\n",
       "    }\n",
       "\n",
       "    .dataframe thead th {\n",
       "        text-align: right;\n",
       "    }\n",
       "</style>\n",
       "<table border=\"1\" class=\"dataframe\">\n",
       "  <thead>\n",
       "    <tr style=\"text-align: right;\">\n",
       "      <th></th>\n",
       "      <th>Station_ID</th>\n",
       "      <th>Latitude</th>\n",
       "      <th>Longitude</th>\n",
       "      <th>Elevation</th>\n",
       "      <th>State</th>\n",
       "      <th>Station_Name</th>\n",
       "      <th>GSN_Flag</th>\n",
       "      <th>HCN_CRN_Flag</th>\n",
       "      <th>WMO_ID</th>\n",
       "    </tr>\n",
       "  </thead>\n",
       "  <tbody>\n",
       "    <tr>\n",
       "      <th>0</th>\n",
       "      <td>ACW00011604</td>\n",
       "      <td>17.1167</td>\n",
       "      <td>-61.7833</td>\n",
       "      <td>10.1</td>\n",
       "      <td></td>\n",
       "      <td>ST JOHNS COOLIDGE FLD</td>\n",
       "      <td></td>\n",
       "      <td></td>\n",
       "      <td></td>\n",
       "    </tr>\n",
       "    <tr>\n",
       "      <th>1</th>\n",
       "      <td>ACW00011647</td>\n",
       "      <td>17.1333</td>\n",
       "      <td>-61.7833</td>\n",
       "      <td>19.2</td>\n",
       "      <td></td>\n",
       "      <td>ST JOHNS</td>\n",
       "      <td></td>\n",
       "      <td></td>\n",
       "      <td></td>\n",
       "    </tr>\n",
       "    <tr>\n",
       "      <th>2</th>\n",
       "      <td>AE000041196</td>\n",
       "      <td>25.3330</td>\n",
       "      <td>55.5170</td>\n",
       "      <td>34.0</td>\n",
       "      <td></td>\n",
       "      <td>SHARJAH INTER. AIRP</td>\n",
       "      <td>GSN</td>\n",
       "      <td></td>\n",
       "      <td>41196</td>\n",
       "    </tr>\n",
       "    <tr>\n",
       "      <th>3</th>\n",
       "      <td>AEM00041194</td>\n",
       "      <td>25.2550</td>\n",
       "      <td>55.3640</td>\n",
       "      <td>10.4</td>\n",
       "      <td></td>\n",
       "      <td>DUBAI INTL</td>\n",
       "      <td></td>\n",
       "      <td></td>\n",
       "      <td>41194</td>\n",
       "    </tr>\n",
       "    <tr>\n",
       "      <th>4</th>\n",
       "      <td>AEM00041217</td>\n",
       "      <td>24.4330</td>\n",
       "      <td>54.6510</td>\n",
       "      <td>26.8</td>\n",
       "      <td></td>\n",
       "      <td>ABU DHABI INTL</td>\n",
       "      <td></td>\n",
       "      <td></td>\n",
       "      <td>41217</td>\n",
       "    </tr>\n",
       "  </tbody>\n",
       "</table>\n",
       "</div>"
      ],
      "text/plain": [
       "    Station_ID  Latitude  Longitude  Elevation State           Station_Name  \\\n",
       "0  ACW00011604   17.1167   -61.7833       10.1        ST JOHNS COOLIDGE FLD   \n",
       "1  ACW00011647   17.1333   -61.7833       19.2                     ST JOHNS   \n",
       "2  AE000041196   25.3330    55.5170       34.0          SHARJAH INTER. AIRP   \n",
       "3  AEM00041194   25.2550    55.3640       10.4                   DUBAI INTL   \n",
       "4  AEM00041217   24.4330    54.6510       26.8               ABU DHABI INTL   \n",
       "\n",
       "  GSN_Flag HCN_CRN_Flag WMO_ID  \n",
       "0                               \n",
       "1                               \n",
       "2      GSN               41196  \n",
       "3                        41194  \n",
       "4                        41217  "
      ]
     },
     "execution_count": 15,
     "metadata": {},
     "output_type": "execute_result"
    }
   ],
   "source": [
    "df.head()"
   ]
  },
  {
   "cell_type": "code",
   "execution_count": 16,
   "metadata": {},
   "outputs": [
    {
     "data": {
      "text/html": [
       "<div>\n",
       "<style scoped>\n",
       "    .dataframe tbody tr th:only-of-type {\n",
       "        vertical-align: middle;\n",
       "    }\n",
       "\n",
       "    .dataframe tbody tr th {\n",
       "        vertical-align: top;\n",
       "    }\n",
       "\n",
       "    .dataframe thead th {\n",
       "        text-align: right;\n",
       "    }\n",
       "</style>\n",
       "<table border=\"1\" class=\"dataframe\">\n",
       "  <thead>\n",
       "    <tr style=\"text-align: right;\">\n",
       "      <th></th>\n",
       "      <th>Latitude</th>\n",
       "      <th>Longitude</th>\n",
       "      <th>Elevation</th>\n",
       "    </tr>\n",
       "  </thead>\n",
       "  <tbody>\n",
       "    <tr>\n",
       "      <th>count</th>\n",
       "      <td>125988.000000</td>\n",
       "      <td>125988.000000</td>\n",
       "      <td>125988.000000</td>\n",
       "    </tr>\n",
       "    <tr>\n",
       "      <th>mean</th>\n",
       "      <td>25.741179</td>\n",
       "      <td>-44.342157</td>\n",
       "      <td>447.031776</td>\n",
       "    </tr>\n",
       "    <tr>\n",
       "      <th>std</th>\n",
       "      <td>28.323435</td>\n",
       "      <td>89.398500</td>\n",
       "      <td>656.340957</td>\n",
       "    </tr>\n",
       "    <tr>\n",
       "      <th>min</th>\n",
       "      <td>-90.000000</td>\n",
       "      <td>-179.994700</td>\n",
       "      <td>-999.900000</td>\n",
       "    </tr>\n",
       "    <tr>\n",
       "      <th>25%</th>\n",
       "      <td>20.919175</td>\n",
       "      <td>-100.540050</td>\n",
       "      <td>85.000000</td>\n",
       "    </tr>\n",
       "    <tr>\n",
       "      <th>50%</th>\n",
       "      <td>36.916850</td>\n",
       "      <td>-84.727500</td>\n",
       "      <td>257.600000</td>\n",
       "    </tr>\n",
       "    <tr>\n",
       "      <th>75%</th>\n",
       "      <td>42.820450</td>\n",
       "      <td>2.072075</td>\n",
       "      <td>596.800000</td>\n",
       "    </tr>\n",
       "    <tr>\n",
       "      <th>max</th>\n",
       "      <td>83.650000</td>\n",
       "      <td>179.741400</td>\n",
       "      <td>5033.000000</td>\n",
       "    </tr>\n",
       "  </tbody>\n",
       "</table>\n",
       "</div>"
      ],
      "text/plain": [
       "            Latitude      Longitude      Elevation\n",
       "count  125988.000000  125988.000000  125988.000000\n",
       "mean       25.741179     -44.342157     447.031776\n",
       "std        28.323435      89.398500     656.340957\n",
       "min       -90.000000    -179.994700    -999.900000\n",
       "25%        20.919175    -100.540050      85.000000\n",
       "50%        36.916850     -84.727500     257.600000\n",
       "75%        42.820450       2.072075     596.800000\n",
       "max        83.650000     179.741400    5033.000000"
      ]
     },
     "execution_count": 16,
     "metadata": {},
     "output_type": "execute_result"
    }
   ],
   "source": [
    "df.describe()"
   ]
  },
  {
   "cell_type": "code",
   "execution_count": 17,
   "metadata": {},
   "outputs": [
    {
     "name": "stdout",
     "output_type": "stream",
     "text": [
      "<class 'pandas.core.frame.DataFrame'>\n",
      "RangeIndex: 125988 entries, 0 to 125987\n",
      "Data columns (total 9 columns):\n",
      " #   Column        Non-Null Count   Dtype  \n",
      "---  ------        --------------   -----  \n",
      " 0   Station_ID    125988 non-null  object \n",
      " 1   Latitude      125988 non-null  float64\n",
      " 2   Longitude     125988 non-null  float64\n",
      " 3   Elevation     125988 non-null  float64\n",
      " 4   State         125988 non-null  object \n",
      " 5   Station_Name  125988 non-null  object \n",
      " 6   GSN_Flag      125988 non-null  object \n",
      " 7   HCN_CRN_Flag  125988 non-null  object \n",
      " 8   WMO_ID        125988 non-null  object \n",
      "dtypes: float64(3), object(6)\n",
      "memory usage: 8.7+ MB\n"
     ]
    }
   ],
   "source": [
    "df.info()"
   ]
  },
  {
   "cell_type": "markdown",
   "metadata": {},
   "source": [
    "## Export dataframe to CSV file"
   ]
  },
  {
   "cell_type": "code",
   "execution_count": 18,
   "metadata": {},
   "outputs": [],
   "source": [
    "df.to_csv(\"./data/export/weather/modified_y.csv\", index=False)"
   ]
  }
 ],
 "metadata": {
  "kernelspec": {
   "display_name": "Python 3",
   "language": "python",
   "name": "python3"
  },
  "language_info": {
   "codemirror_mode": {
    "name": "ipython",
    "version": 3
   },
   "file_extension": ".py",
   "mimetype": "text/x-python",
   "name": "python",
   "nbconvert_exporter": "python",
   "pygments_lexer": "ipython3",
   "version": "3.12.3"
  }
 },
 "nbformat": 4,
 "nbformat_minor": 2
}
