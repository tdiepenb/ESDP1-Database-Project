{
 "cells": [
  {
   "cell_type": "markdown",
   "metadata": {},
   "source": [
    "## Install Libraries"
   ]
  },
  {
   "cell_type": "code",
   "execution_count": 1,
   "metadata": {
    "ExecuteTime": {
     "end_time": "2024-06-30T13:39:59.299327Z",
     "start_time": "2024-06-30T13:39:50.333901Z"
    }
   },
   "outputs": [
    {
     "name": "stdout",
     "output_type": "stream",
     "text": [
      "Requirement already satisfied: pandas in c:\\python312\\lib\\site-packages (2.2.2)\n",
      "Requirement already satisfied: numpy>=1.26.0 in c:\\python312\\lib\\site-packages (from pandas) (2.0.0)\n",
      "Requirement already satisfied: python-dateutil>=2.8.2 in c:\\users\\fabi\\appdata\\roaming\\python\\python312\\site-packages (from pandas) (2.9.0.post0)\n",
      "Requirement already satisfied: pytz>=2020.1 in c:\\python312\\lib\\site-packages (from pandas) (2024.1)\n",
      "Requirement already satisfied: tzdata>=2022.7 in c:\\python312\\lib\\site-packages (from pandas) (2024.1)\n",
      "Requirement already satisfied: six>=1.5 in c:\\python312\\lib\\site-packages (from python-dateutil>=2.8.2->pandas) (1.16.0)\n"
     ]
    },
    {
     "name": "stderr",
     "output_type": "stream",
     "text": [
      "\n",
      "[notice] A new release of pip is available: 24.0 -> 24.1.2\n",
      "[notice] To update, run: python.exe -m pip install --upgrade pip\n"
     ]
    },
    {
     "name": "stdout",
     "output_type": "stream",
     "text": [
      "Requirement already satisfied: requests in c:\\python312\\lib\\site-packages (2.32.3)\n",
      "Requirement already satisfied: charset-normalizer<4,>=2 in c:\\python312\\lib\\site-packages (from requests) (3.3.2)\n",
      "Requirement already satisfied: idna<4,>=2.5 in c:\\python312\\lib\\site-packages (from requests) (3.7)\n",
      "Requirement already satisfied: urllib3<3,>=1.21.1 in c:\\python312\\lib\\site-packages (from requests) (2.2.1)\n",
      "Requirement already satisfied: certifi>=2017.4.17 in c:\\python312\\lib\\site-packages (from requests) (2024.6.2)\n"
     ]
    },
    {
     "name": "stderr",
     "output_type": "stream",
     "text": [
      "\n",
      "[notice] A new release of pip is available: 24.0 -> 24.1.2\n",
      "[notice] To update, run: python.exe -m pip install --upgrade pip\n"
     ]
    },
    {
     "name": "stdout",
     "output_type": "stream",
     "text": [
      "Requirement already satisfied: numpy in c:\\python312\\lib\\site-packages (2.0.0)\n"
     ]
    },
    {
     "name": "stderr",
     "output_type": "stream",
     "text": [
      "\n",
      "[notice] A new release of pip is available: 24.0 -> 24.1.2\n",
      "[notice] To update, run: python.exe -m pip install --upgrade pip\n"
     ]
    }
   ],
   "source": [
    "! pip install pandas\n",
    "! pip install requests\n",
    "! pip install numpy"
   ]
  },
  {
   "cell_type": "markdown",
   "metadata": {},
   "source": [
    "## Import Libraries"
   ]
  },
  {
   "cell_type": "code",
   "execution_count": 2,
   "metadata": {
    "ExecuteTime": {
     "end_time": "2024-06-30T13:40:02.516349Z",
     "start_time": "2024-06-30T13:39:59.301464Z"
    }
   },
   "outputs": [],
   "source": [
    "import pandas as pd\n",
    "from ftplib import FTP\n",
    "import requests   # more convenient for http(s) urls\n",
    "import numpy as np\n",
    "import os"
   ]
  },
  {
   "cell_type": "markdown",
   "metadata": {},
   "source": [
    "## Download Data"
   ]
  },
  {
   "cell_type": "markdown",
   "metadata": {},
   "source": [
    "The \"year\".csv files contain all daily and station elements found in GHCN daily for the given year.  These \n",
    "files are updated daily for the entire period of record.\n",
    "\n",
    "The following information serves as a definition of each field in one line of data covering one station-day. \n",
    "Each field described below is separated by a comma ( , ) and follows the order below:\n",
    "\n",
    "ID = 11 character station identification code\n",
    "YEAR/MONTH/DAY = 8 character date in YYYYMMDD format (e.g. 19860529 = May 29, 1986)\n",
    "ELEMENT = 4 character indicator of element type \n",
    "DATA VALUE = 5 character data value for ELEMENT \n",
    "M-FLAG = 1 character Measurement Flag \n",
    "Q-FLAG = 1 character Quality Flag \n",
    "S-FLAG = 1 character Source Flag \n",
    "OBS-TIME = 4-character time of observation in hour-minute format (i.e. 0700 =7:00 am)\n",
    "\n",
    "See section III of the GHCN-Daily readme.txt file (ftp://ftp.ncdc.noaa.gov/pub/data/ghcn/daily/readme.txt)\n",
    "for an explanation of ELEMENT codes and their units as well as the M-FLAG, Q-FLAG and S-FLAG.\n",
    "\n",
    "The OBS-TIME field is populated with the observation times contained in NOAA/NCEI's HOMR station history database.  "
   ]
  },
  {
   "cell_type": "code",
   "execution_count": 3,
   "metadata": {
    "ExecuteTime": {
     "end_time": "2024-06-30T13:40:07.695146Z",
     "start_time": "2024-06-30T13:40:02.517325Z"
    }
   },
   "outputs": [
    {
     "name": "stdout",
     "output_type": "stream",
     "text": [
      "*cmd* 'CWD pub/data/ghcn/daily'\n",
      "*resp* '250 CWD command successful'\n",
      "*cmd* 'TYPE I'\n",
      "*resp* '200 Type set to I'\n",
      "*cmd* 'PASV'\n",
      "*resp* '227 Entering Passive Mode (205,167,25,137,242,158).'\n",
      "*cmd* 'RETR readme.txt'\n",
      "*resp* '150 Opening BINARY mode data connection for readme.txt (28140 bytes)'\n",
      "*resp* '226 Transfer complete'\n",
      "*cmd* 'QUIT'\n",
      "*resp* '221 Goodbye.'\n"
     ]
    }
   ],
   "source": [
    "url = \"ftp://ftp.ncei.noaa.gov/pub/data/ghcn/daily\"\n",
    "site, fpath = url.split(\"//\")[1].split(\"/\", 1)\n",
    "with FTP(site) as session:\n",
    "    session.login()  # \"anonymous\", \"your-email@uni-koeln.de\")\n",
    "    session.set_debuglevel(1)\n",
    "    session.cwd(fpath)\n",
    "    directory_path = \"data\"\n",
    "    os.makedirs(directory_path, exist_ok=True)\n",
    "    fname = \"readme.txt\"\n",
    "    with open(f\"./data/{fname}\", 'wb') as local_file:\n",
    "        session.retrbinary(f\"RETR {fname}\", local_file.write)"
   ]
  },
  {
   "cell_type": "code",
   "execution_count": 4,
   "metadata": {
    "ExecuteTime": {
     "end_time": "2024-06-30T13:44:03.072081Z",
     "start_time": "2024-06-30T13:40:07.696661Z"
    }
   },
   "outputs": [
    {
     "name": "stdout",
     "output_type": "stream",
     "text": [
      "...Downloading data from year 1949....\n",
      "data downloaded. Will be saved as 1949.csv.gz\n",
      "Data from year 1949 downloaded and saved.\n",
      "...Downloading data from year 1950....\n",
      "data downloaded. Will be saved as 1950.csv.gz\n",
      "Data from year 1950 downloaded and saved.\n",
      "...Downloading data from year 1951....\n",
      "data downloaded. Will be saved as 1951.csv.gz\n",
      "Data from year 1951 downloaded and saved.\n",
      "...Downloading data from year 1952....\n",
      "data downloaded. Will be saved as 1952.csv.gz\n",
      "Data from year 1952 downloaded and saved.\n"
     ]
    }
   ],
   "source": [
    "years = [1949, 1950, 1951, 1952]\n",
    "\n",
    "for year in years:\n",
    "    print(f\"...Downloading data from year {year}....\")\n",
    "    url = f\"https://www.ncei.noaa.gov/pub/data/ghcn/daily/by_year/{year}.csv.gz\"\n",
    "    response = requests.get(url)\n",
    "    if response.ok:\n",
    "        filename = url.rsplit('/', 1)[1]\n",
    "        print(f\"data downloaded. Will be saved as {filename}\")\n",
    "        directory_path = \"data/weather\"\n",
    "        os.makedirs(directory_path, exist_ok=True)\n",
    "        with open(f\"./data/weather/{filename}\", \"wb\") as f:\n",
    "            f.write(response.content)\n",
    "    else:\n",
    "        print(\"An error occured while trying to retrieve the data from the internet.\")\n",
    "    print(f\"Data from year {year} downloaded and saved.\")\n"
   ]
  },
  {
   "cell_type": "markdown",
   "metadata": {},
   "source": [
    "## Process Data\n",
    "\n",
    "### Stations Structure:\n",
    "| Column name | Desc | Data type |\n",
    "| --- | --- | --- |\n",
    "| ID | 11 character station identification code | Character |\n",
    "| YEAR/MONTH/DAY | 8 character date in YYYYMMDD format (e.g. 19860529 = May 29, 1986) | Character |\n",
    "| ELEMENT  | 4 character indicator of element type  | Character |\n",
    "| DATA VALUE | 5 character data value for ELEMENT | Character |\n",
    "| M-FLAG | 1 character Measurement Flag | Character |\n",
    "| Q-FLAG | 1 character Quality Flag | Character |\n",
    "| S-FLAG | 1 character Source Flag | Character |\n",
    "| OBS-TIME | 4-character time of observation in hour-minute format (i.e. 0700 =7:00 am) | Character |\n"
   ]
  },
  {
   "cell_type": "code",
   "execution_count": 5,
   "metadata": {},
   "outputs": [],
   "source": [
    "# for year in years: \n",
    "#     # hier nur drinne damit nicht direkt für alle Jahre gestartet wird\n",
    "#     if year == years[0]:\n",
    "#         print(f\"Year {year} processing.\")\n",
    "#         file_path = f'./data/weather/{year}.csv.gz'\n",
    "#         filename = f'./data/weather/{year}.csv.gz'\n",
    "\n",
    "#         columns = [\"stationcode\", \"datelabel\", \"param\", \"value\", \"mflag\", \"qflag\", \"sflag\", \"time\"]\n",
    "        \n",
    "#         df = pd.read_csv(filename, names=columns, compression=\"gzip\")\n",
    "\n",
    "#         # convert values to float\n",
    "#         df = df.astype({\"value\": \"float32\"})\n",
    "        \n",
    "\n",
    "#         # cleanse dataset: keep only the parameters of interest, i.e. TMIN, TMAX, PRCP, SNOW\n",
    "#         keep = [\"TMIN\", \"TMAX\", \"PRCP\", \"SNOW\"]\n",
    "\n",
    "#         df = df[df[\"param\"].isin(keep)]\n",
    "\n",
    "#         scaling_factors = {\"TMIN\": 0.1, \"TMAX\": 0.1, \"PRCP\": 0.1}\n",
    "\n",
    "#         for k, v in scaling_factors.items():\n",
    "#             df.loc[df[\"param\"]==k,\"value\"] *= v\n",
    "\n",
    "#         # # df = df.replace(np.nan, '', regex=True)\n",
    "#         # df.replace(['None', 'nan'], np.nan, inplace=True)\n",
    "#         df = df.fillna('')\n",
    "\n",
    "#         print(df)\n",
    "\n",
    "#         print(f\"Processing of year {year} finished.\")\n",
    "\n",
    "#         # directory_path = \"data/export/weather\"\n",
    "#         # os.makedirs(directory_path, exist_ok=True)\n",
    "#         # df.to_csv(f\"./data/export/weather/modified_{year}.csv\", index=False)"
   ]
  },
  {
   "cell_type": "code",
   "execution_count": 7,
   "metadata": {},
   "outputs": [
    {
     "name": "stdout",
     "output_type": "stream",
     "text": [
      "Year 1949 processing.\n",
      "          stationcode  datelabel param      value mflag qflag sflag time\n",
      "0         ACW00011604   19490101  TMAX  28.900000                 X     \n",
      "1         ACW00011604   19490101  TMIN  21.700001                 X     \n",
      "2         ACW00011604   19490101  PRCP   0.000000                 X     \n",
      "3         ACW00011604   19490101  SNOW   0.000000                 X     \n",
      "5         AG000060390   19490101  TMAX  16.600000                 G     \n",
      "...               ...        ...   ...        ...   ...   ...   ...  ...\n",
      "23787114  WZ004094600   19491231  PRCP   0.000000                 I     \n",
      "23787115  WZ004451000   19491231  PRCP   0.000000                 I     \n",
      "23787116  WZ004467410   19491231  PRCP  14.200000                 I     \n",
      "23787117  WZ004822290   19491231  PRCP   0.000000                 I     \n",
      "23787118  WZ004834260   19491231  PRCP  17.800001                 I     \n",
      "\n",
      "[18089254 rows x 8 columns]\n",
      "Processing of year 1949 finished.\n",
      "Year 1950 processing.\n",
      "          stationcode  datelabel param      value mflag qflag sflag time\n",
      "0         AG000060390   19500101  TMAX  16.200001                 G     \n",
      "1         AG000060390   19500101  TMIN   8.000000                 E     \n",
      "2         AG000060390   19500101  PRCP   9.100000                 E     \n",
      "3         AG000060590   19500101  TMAX  15.400001                 G     \n",
      "4         AG000060590   19500101  TMIN   3.600000                 G     \n",
      "...               ...        ...   ...        ...   ...   ...   ...  ...\n",
      "24405155  WZ004467410   19501231  PRCP   0.000000                 I     \n",
      "24405156  WZ004822290   19501231  PRCP  14.700000                 I     \n",
      "24405157  WZ004834260   19501231  PRCP   7.600000                 I     \n",
      "24405158  ZA000067441   19501231  PRCP   0.000000                 Q     \n",
      "24405159  ZA000067475   19501231  PRCP   0.000000                 Q     \n",
      "\n",
      "[18503794 rows x 8 columns]\n",
      "Processing of year 1950 finished.\n",
      "Year 1951 processing.\n",
      "          stationcode  datelabel param      value mflag qflag sflag time\n",
      "0         AG000060390   19510101  TMAX  14.800000                 G     \n",
      "1         AG000060390   19510101  TMIN   4.000000                 E     \n",
      "2         AG000060390   19510101  PRCP   0.000000                 E     \n",
      "3         AG000060590   19510101  TMAX  14.200000                 G     \n",
      "4         AG000060590   19510101  TMIN  -1.200000                 G     \n",
      "...               ...        ...   ...        ...   ...   ...   ...  ...\n",
      "25145451  ZI000067983   19511231  TMIN  17.500000                 Q     \n",
      "25145452  ZI000067983   19511231  PRCP  26.900000                 Q     \n",
      "25145453  ZI000067991   19511231  TMAX  36.100002                 Q     \n",
      "25145454  ZI000067991   19511231  TMIN  22.300001                 Q     \n",
      "25145455  ZI000067991   19511231  PRCP   0.000000                 Q     \n",
      "\n",
      "[19279849 rows x 8 columns]\n",
      "Processing of year 1951 finished.\n",
      "Year 1952 processing.\n",
      "          stationcode  datelabel param      value mflag qflag sflag time\n",
      "0         AG000060390   19520101  TMAX  18.700001                 G     \n",
      "1         AG000060390   19520101  TMIN   5.300000                 E     \n",
      "2         AG000060390   19520101  PRCP   0.000000                 E     \n",
      "3         AG000060590   19520101  TMAX  18.000000                 G     \n",
      "4         AG000060590   19520101  TMIN   2.900000                 G     \n",
      "...               ...        ...   ...        ...   ...   ...   ...  ...\n",
      "25536571  ZI000067983   19521231  TMIN  18.400000                 Q     \n",
      "25536572  ZI000067983   19521231  PRCP   0.000000                 Q     \n",
      "25536573  ZI000067991   19521231  TMAX  33.299999                 Q     \n",
      "25536574  ZI000067991   19521231  TMIN  22.800001                 Q     \n",
      "25536575  ZI000067991   19521231  PRCP  41.700001                 Q     \n",
      "\n",
      "[19548959 rows x 8 columns]\n",
      "Processing of year 1952 finished.\n"
     ]
    }
   ],
   "source": [
    "for year in years: \n",
    "    # hier nur drinne damit nicht direkt für alle Jahre gestartet wird\n",
    "    \n",
    "    print(f\"Year {year} processing.\")\n",
    "    file_path = f'./data/weather/{year}.csv.gz'\n",
    "    filename = f'./data/weather/{year}.csv.gz'\n",
    "\n",
    "    columns = [\"stationcode\", \"datelabel\", \"param\", \"value\", \"mflag\", \"qflag\", \"sflag\", \"time\"]\n",
    "    \n",
    "    df = pd.read_csv(filename, names=columns, compression=\"gzip\")\n",
    "\n",
    "    # convert values to float\n",
    "    df = df.astype({\"value\": \"float32\"})\n",
    "    \n",
    "\n",
    "    # cleanse dataset: keep only the parameters of interest, i.e. TMIN, TMAX, PRCP, SNOW\n",
    "    keep = [\"TMIN\", \"TMAX\", \"PRCP\", \"SNOW\"]\n",
    "\n",
    "    df = df[df[\"param\"].isin(keep)]\n",
    "\n",
    "    scaling_factors = {\"TMIN\": 0.1, \"TMAX\": 0.1, \"PRCP\": 0.1}\n",
    "\n",
    "    for k, v in scaling_factors.items():\n",
    "        df.loc[df[\"param\"]==k,\"value\"] *= v\n",
    "\n",
    "    # # df = df.replace(np.nan, '', regex=True)\n",
    "    # df.replace(['None', 'nan'], np.nan, inplace=True)\n",
    "    df = df.fillna('')\n",
    "\n",
    "    print(df)\n",
    "\n",
    "    print(f\"Processing of year {year} finished.\")\n",
    "\n",
    "    directory_path = \"data/export/weather\"\n",
    "    os.makedirs(directory_path, exist_ok=True)\n",
    "    df.to_csv(f\"./data/export/weather/modified_{year}.csv\", index=False, header=False)"
   ]
  },
  {
   "cell_type": "code",
   "execution_count": 6,
   "metadata": {
    "ExecuteTime": {
     "end_time": "2024-06-30T13:44:32.137985Z",
     "start_time": "2024-06-30T13:44:32.106548Z"
    }
   },
   "outputs": [
    {
     "data": {
      "text/html": [
       "<div>\n",
       "<style scoped>\n",
       "    .dataframe tbody tr th:only-of-type {\n",
       "        vertical-align: middle;\n",
       "    }\n",
       "\n",
       "    .dataframe tbody tr th {\n",
       "        vertical-align: top;\n",
       "    }\n",
       "\n",
       "    .dataframe thead th {\n",
       "        text-align: right;\n",
       "    }\n",
       "</style>\n",
       "<table border=\"1\" class=\"dataframe\">\n",
       "  <thead>\n",
       "    <tr style=\"text-align: right;\">\n",
       "      <th></th>\n",
       "      <th>stationcode</th>\n",
       "      <th>datelabel</th>\n",
       "      <th>param</th>\n",
       "      <th>value</th>\n",
       "      <th>mflag</th>\n",
       "      <th>qflag</th>\n",
       "      <th>sflag</th>\n",
       "      <th>time</th>\n",
       "    </tr>\n",
       "  </thead>\n",
       "  <tbody>\n",
       "    <tr>\n",
       "      <th>0</th>\n",
       "      <td>ACW00011604</td>\n",
       "      <td>19490101</td>\n",
       "      <td>TMAX</td>\n",
       "      <td>28.900000</td>\n",
       "      <td></td>\n",
       "      <td></td>\n",
       "      <td>X</td>\n",
       "      <td></td>\n",
       "    </tr>\n",
       "    <tr>\n",
       "      <th>1</th>\n",
       "      <td>ACW00011604</td>\n",
       "      <td>19490101</td>\n",
       "      <td>TMIN</td>\n",
       "      <td>21.700001</td>\n",
       "      <td></td>\n",
       "      <td></td>\n",
       "      <td>X</td>\n",
       "      <td></td>\n",
       "    </tr>\n",
       "    <tr>\n",
       "      <th>2</th>\n",
       "      <td>ACW00011604</td>\n",
       "      <td>19490101</td>\n",
       "      <td>PRCP</td>\n",
       "      <td>0.000000</td>\n",
       "      <td></td>\n",
       "      <td></td>\n",
       "      <td>X</td>\n",
       "      <td></td>\n",
       "    </tr>\n",
       "    <tr>\n",
       "      <th>3</th>\n",
       "      <td>ACW00011604</td>\n",
       "      <td>19490101</td>\n",
       "      <td>SNOW</td>\n",
       "      <td>0.000000</td>\n",
       "      <td></td>\n",
       "      <td></td>\n",
       "      <td>X</td>\n",
       "      <td></td>\n",
       "    </tr>\n",
       "    <tr>\n",
       "      <th>5</th>\n",
       "      <td>AG000060390</td>\n",
       "      <td>19490101</td>\n",
       "      <td>TMAX</td>\n",
       "      <td>16.600000</td>\n",
       "      <td></td>\n",
       "      <td></td>\n",
       "      <td>G</td>\n",
       "      <td></td>\n",
       "    </tr>\n",
       "  </tbody>\n",
       "</table>\n",
       "</div>"
      ],
      "text/plain": [
       "   stationcode  datelabel param      value mflag qflag sflag time\n",
       "0  ACW00011604   19490101  TMAX  28.900000                 X     \n",
       "1  ACW00011604   19490101  TMIN  21.700001                 X     \n",
       "2  ACW00011604   19490101  PRCP   0.000000                 X     \n",
       "3  ACW00011604   19490101  SNOW   0.000000                 X     \n",
       "5  AG000060390   19490101  TMAX  16.600000                 G     "
      ]
     },
     "execution_count": 6,
     "metadata": {},
     "output_type": "execute_result"
    }
   ],
   "source": [
    "df.head()"
   ]
  },
  {
   "cell_type": "code",
   "execution_count": 7,
   "metadata": {
    "ExecuteTime": {
     "end_time": "2024-06-30T13:44:33.449793Z",
     "start_time": "2024-06-30T13:44:32.138955Z"
    }
   },
   "outputs": [
    {
     "data": {
      "text/html": [
       "<div>\n",
       "<style scoped>\n",
       "    .dataframe tbody tr th:only-of-type {\n",
       "        vertical-align: middle;\n",
       "    }\n",
       "\n",
       "    .dataframe tbody tr th {\n",
       "        vertical-align: top;\n",
       "    }\n",
       "\n",
       "    .dataframe thead th {\n",
       "        text-align: right;\n",
       "    }\n",
       "</style>\n",
       "<table border=\"1\" class=\"dataframe\">\n",
       "  <thead>\n",
       "    <tr style=\"text-align: right;\">\n",
       "      <th></th>\n",
       "      <th>datelabel</th>\n",
       "      <th>value</th>\n",
       "    </tr>\n",
       "  </thead>\n",
       "  <tbody>\n",
       "    <tr>\n",
       "      <th>count</th>\n",
       "      <td>1.808925e+07</td>\n",
       "      <td>1.808925e+07</td>\n",
       "    </tr>\n",
       "    <tr>\n",
       "      <th>mean</th>\n",
       "      <td>1.949067e+07</td>\n",
       "      <td>4.951462e+00</td>\n",
       "    </tr>\n",
       "    <tr>\n",
       "      <th>std</th>\n",
       "      <td>3.441054e+02</td>\n",
       "      <td>1.397374e+01</td>\n",
       "    </tr>\n",
       "    <tr>\n",
       "      <th>min</th>\n",
       "      <td>1.949010e+07</td>\n",
       "      <td>-7.110000e+01</td>\n",
       "    </tr>\n",
       "    <tr>\n",
       "      <th>25%</th>\n",
       "      <td>1.949040e+07</td>\n",
       "      <td>0.000000e+00</td>\n",
       "    </tr>\n",
       "    <tr>\n",
       "      <th>50%</th>\n",
       "      <td>1.949070e+07</td>\n",
       "      <td>0.000000e+00</td>\n",
       "    </tr>\n",
       "    <tr>\n",
       "      <th>75%</th>\n",
       "      <td>1.949100e+07</td>\n",
       "      <td>6.700000e+00</td>\n",
       "    </tr>\n",
       "    <tr>\n",
       "      <th>max</th>\n",
       "      <td>1.949123e+07</td>\n",
       "      <td>6.505000e+03</td>\n",
       "    </tr>\n",
       "  </tbody>\n",
       "</table>\n",
       "</div>"
      ],
      "text/plain": [
       "          datelabel         value\n",
       "count  1.808925e+07  1.808925e+07\n",
       "mean   1.949067e+07  4.951462e+00\n",
       "std    3.441054e+02  1.397374e+01\n",
       "min    1.949010e+07 -7.110000e+01\n",
       "25%    1.949040e+07  0.000000e+00\n",
       "50%    1.949070e+07  0.000000e+00\n",
       "75%    1.949100e+07  6.700000e+00\n",
       "max    1.949123e+07  6.505000e+03"
      ]
     },
     "execution_count": 7,
     "metadata": {},
     "output_type": "execute_result"
    }
   ],
   "source": [
    "df.describe()"
   ]
  },
  {
   "cell_type": "code",
   "execution_count": 8,
   "metadata": {
    "ExecuteTime": {
     "end_time": "2024-06-30T13:44:33.479192Z",
     "start_time": "2024-06-30T13:44:33.451166Z"
    }
   },
   "outputs": [
    {
     "name": "stdout",
     "output_type": "stream",
     "text": [
      "<class 'pandas.core.frame.DataFrame'>\n",
      "Index: 18089254 entries, 0 to 23787118\n",
      "Data columns (total 8 columns):\n",
      " #   Column       Dtype  \n",
      "---  ------       -----  \n",
      " 0   stationcode  object \n",
      " 1   datelabel    int64  \n",
      " 2   param        object \n",
      " 3   value        float32\n",
      " 4   mflag        object \n",
      " 5   qflag        object \n",
      " 6   sflag        object \n",
      " 7   time         object \n",
      "dtypes: float32(1), int64(1), object(6)\n",
      "memory usage: 1.1+ GB\n"
     ]
    }
   ],
   "source": [
    "df.info()"
   ]
  },
  {
   "cell_type": "markdown",
   "metadata": {},
   "source": [
    "## Export dataframe to CSV file"
   ]
  },
  {
   "cell_type": "code",
   "execution_count": 9,
   "metadata": {
    "ExecuteTime": {
     "end_time": "2024-06-30T13:44:34.770106Z",
     "start_time": "2024-06-30T13:44:33.479691Z"
    }
   },
   "outputs": [],
   "source": [
    "df.to_csv(\"./data/export/weather/modified_climate.csv\", index=False)"
   ]
  },
  {
   "cell_type": "code",
   "execution_count": null,
   "metadata": {},
   "outputs": [],
   "source": []
  }
 ],
 "metadata": {
  "kernelspec": {
   "display_name": "Python 3",
   "language": "python",
   "name": "python3"
  },
  "language_info": {
   "codemirror_mode": {
    "name": "ipython",
    "version": 3
   },
   "file_extension": ".py",
   "mimetype": "text/x-python",
   "name": "python",
   "nbconvert_exporter": "python",
   "pygments_lexer": "ipython3",
   "version": "3.12.3"
  }
 },
 "nbformat": 4,
 "nbformat_minor": 2
}
