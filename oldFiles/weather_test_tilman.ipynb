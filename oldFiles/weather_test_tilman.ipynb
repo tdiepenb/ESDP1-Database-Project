{
 "cells": [
  {
   "cell_type": "code",
   "id": "initial_id",
   "metadata": {
    "collapsed": true,
    "ExecuteTime": {
     "end_time": "2024-07-14T15:12:56.011199Z",
     "start_time": "2024-07-14T15:12:55.382984Z"
    }
   },
   "source": [
    "import pandas as pd\n",
    "import numpy as np\n"
   ],
   "outputs": [],
   "execution_count": 1
  },
  {
   "metadata": {
    "ExecuteTime": {
     "end_time": "2024-07-14T15:15:55.658641Z",
     "start_time": "2024-07-14T15:15:37.898377Z"
    }
   },
   "cell_type": "code",
   "source": [
    "columns = [\"stationcode\", \"datelabel\", \"param\", \"value\", \"mflag\", \"qflag\", \"sflag\", \"time\"]\n",
    "df = pd.read_csv(\"./data/NCEI/ghcn/daily/1949.csv.gz\", names=columns, compression=\"gzip\")\n"
   ],
   "id": "a86e5d8d2fcaecae",
   "outputs": [],
   "execution_count": 2
  },
  {
   "metadata": {
    "ExecuteTime": {
     "end_time": "2024-07-14T15:15:55.793456Z",
     "start_time": "2024-07-14T15:15:55.658641Z"
    }
   },
   "cell_type": "code",
   "source": "df.head()",
   "id": "b544fc8574451537",
   "outputs": [
    {
     "data": {
      "text/plain": [
       "   stationcode  datelabel param  value mflag qflag sflag  time\n",
       "0  ACW00011604   19490101  TMAX    289   NaN   NaN     X   NaN\n",
       "1  ACW00011604   19490101  TMIN    217   NaN   NaN     X   NaN\n",
       "2  ACW00011604   19490101  PRCP      0   NaN   NaN     X   NaN\n",
       "3  ACW00011604   19490101  SNOW      0   NaN   NaN     X   NaN\n",
       "4  ACW00011604   19490101  SNWD      0   NaN   NaN     X   NaN"
      ],
      "text/html": [
       "<div>\n",
       "<style scoped>\n",
       "    .dataframe tbody tr th:only-of-type {\n",
       "        vertical-align: middle;\n",
       "    }\n",
       "\n",
       "    .dataframe tbody tr th {\n",
       "        vertical-align: top;\n",
       "    }\n",
       "\n",
       "    .dataframe thead th {\n",
       "        text-align: right;\n",
       "    }\n",
       "</style>\n",
       "<table border=\"1\" class=\"dataframe\">\n",
       "  <thead>\n",
       "    <tr style=\"text-align: right;\">\n",
       "      <th></th>\n",
       "      <th>stationcode</th>\n",
       "      <th>datelabel</th>\n",
       "      <th>param</th>\n",
       "      <th>value</th>\n",
       "      <th>mflag</th>\n",
       "      <th>qflag</th>\n",
       "      <th>sflag</th>\n",
       "      <th>time</th>\n",
       "    </tr>\n",
       "  </thead>\n",
       "  <tbody>\n",
       "    <tr>\n",
       "      <th>0</th>\n",
       "      <td>ACW00011604</td>\n",
       "      <td>19490101</td>\n",
       "      <td>TMAX</td>\n",
       "      <td>289</td>\n",
       "      <td>NaN</td>\n",
       "      <td>NaN</td>\n",
       "      <td>X</td>\n",
       "      <td>NaN</td>\n",
       "    </tr>\n",
       "    <tr>\n",
       "      <th>1</th>\n",
       "      <td>ACW00011604</td>\n",
       "      <td>19490101</td>\n",
       "      <td>TMIN</td>\n",
       "      <td>217</td>\n",
       "      <td>NaN</td>\n",
       "      <td>NaN</td>\n",
       "      <td>X</td>\n",
       "      <td>NaN</td>\n",
       "    </tr>\n",
       "    <tr>\n",
       "      <th>2</th>\n",
       "      <td>ACW00011604</td>\n",
       "      <td>19490101</td>\n",
       "      <td>PRCP</td>\n",
       "      <td>0</td>\n",
       "      <td>NaN</td>\n",
       "      <td>NaN</td>\n",
       "      <td>X</td>\n",
       "      <td>NaN</td>\n",
       "    </tr>\n",
       "    <tr>\n",
       "      <th>3</th>\n",
       "      <td>ACW00011604</td>\n",
       "      <td>19490101</td>\n",
       "      <td>SNOW</td>\n",
       "      <td>0</td>\n",
       "      <td>NaN</td>\n",
       "      <td>NaN</td>\n",
       "      <td>X</td>\n",
       "      <td>NaN</td>\n",
       "    </tr>\n",
       "    <tr>\n",
       "      <th>4</th>\n",
       "      <td>ACW00011604</td>\n",
       "      <td>19490101</td>\n",
       "      <td>SNWD</td>\n",
       "      <td>0</td>\n",
       "      <td>NaN</td>\n",
       "      <td>NaN</td>\n",
       "      <td>X</td>\n",
       "      <td>NaN</td>\n",
       "    </tr>\n",
       "  </tbody>\n",
       "</table>\n",
       "</div>"
      ]
     },
     "execution_count": 3,
     "metadata": {},
     "output_type": "execute_result"
    }
   ],
   "execution_count": 3
  },
  {
   "metadata": {
    "ExecuteTime": {
     "end_time": "2024-07-14T15:27:44.507245Z",
     "start_time": "2024-07-14T15:27:43.744214Z"
    }
   },
   "cell_type": "code",
   "source": "df[\"param\"].unique()",
   "id": "5a1827418510310c",
   "outputs": [
    {
     "data": {
      "text/plain": [
       "array(['TMAX', 'TMIN', 'PRCP', 'SNOW', 'SNWD', 'TAVG', 'WT01', 'PGTM',\n",
       "       'WDFG', 'WSFG', 'WT16', 'WT03', 'WT09', 'WT18', 'MDPR', 'MDSF',\n",
       "       'WT04', 'WT06', 'WT08', 'TOBS', 'WT07', 'EVAP', 'WDMV', 'WT11',\n",
       "       'WT14', 'DAPR', 'WT05', 'GAHT', 'FRGB', 'FRGT', 'FRTH', 'DWPR',\n",
       "       'DATX', 'MDTX', 'DASF', 'DAWM', 'MDWM', 'DATN', 'MDTN', 'THIC',\n",
       "       'WT10', 'DAEV', 'MDEV', 'MXPN'], dtype=object)"
      ]
     },
     "execution_count": 12,
     "metadata": {},
     "output_type": "execute_result"
    }
   ],
   "execution_count": 12
  },
  {
   "metadata": {
    "ExecuteTime": {
     "end_time": "2024-07-14T15:27:44.730783Z",
     "start_time": "2024-07-14T15:27:44.507245Z"
    }
   },
   "cell_type": "code",
   "source": "df[\"time\"].unique()",
   "id": "39ea1066b0c10235",
   "outputs": [
    {
     "data": {
      "text/plain": [
       "array([  nan,  800.,  700., 1700.,  600., 1800., 1600., 1300.,  500.,\n",
       "       1900., 1830., 1000.,  900., 2400., 2100., 1500., 2300., 2000.,\n",
       "       1400., 1200.,  815., 1100.,  630.,  730., 1630.,  645., 2200.,\n",
       "       1230.,  830., 1730.,  100.,  930., 1530., 1430.])"
      ]
     },
     "execution_count": 13,
     "metadata": {},
     "output_type": "execute_result"
    }
   ],
   "execution_count": 13
  },
  {
   "metadata": {
    "ExecuteTime": {
     "end_time": "2024-07-14T15:27:49.513069Z",
     "start_time": "2024-07-14T15:27:44.730783Z"
    }
   },
   "cell_type": "code",
   "source": "dffiltered = df[df[\"param\"].isin([\"TMAX\", \"TMIN\", \"PRCP\", \"SNOW\", \"SNWD\"])]",
   "id": "672906eab1523f3",
   "outputs": [],
   "execution_count": 14
  },
  {
   "metadata": {
    "ExecuteTime": {
     "end_time": "2024-07-14T15:27:50.361002Z",
     "start_time": "2024-07-14T15:27:49.513069Z"
    }
   },
   "cell_type": "code",
   "source": "dffiltered[\"param\"].unique()",
   "id": "fd4b2dd39d3d4d43",
   "outputs": [
    {
     "data": {
      "text/plain": [
       "array(['TMAX', 'TMIN', 'PRCP', 'SNOW', 'SNWD'], dtype=object)"
      ]
     },
     "execution_count": 15,
     "metadata": {},
     "output_type": "execute_result"
    }
   ],
   "execution_count": 15
  },
  {
   "metadata": {
    "ExecuteTime": {
     "end_time": "2024-07-14T15:28:07.855941Z",
     "start_time": "2024-07-14T15:28:07.676168Z"
    }
   },
   "cell_type": "code",
   "source": "dffiltered[\"time\"].unique()",
   "id": "bd038713194ec30b",
   "outputs": [
    {
     "data": {
      "text/plain": [
       "array([  nan,  800.,  700., 1700.,  600., 1800., 1600., 1300.,  500.,\n",
       "       1900., 1830., 1000.,  900., 2400., 2100., 1500., 2300., 2000.,\n",
       "       1400., 1200.,  815., 1100.,  630.,  730., 1630.,  645., 2200.,\n",
       "       1230.,  830., 1730.,  100.,  930., 1530., 1430.])"
      ]
     },
     "execution_count": 16,
     "metadata": {},
     "output_type": "execute_result"
    }
   ],
   "execution_count": 16
  },
  {
   "metadata": {
    "ExecuteTime": {
     "end_time": "2024-07-14T15:32:50.474161Z",
     "start_time": "2024-07-14T15:32:50.465648Z"
    }
   },
   "cell_type": "code",
   "source": "df.size",
   "id": "7ef48987cd872664",
   "outputs": [
    {
     "data": {
      "text/plain": [
       "190296952"
      ]
     },
     "execution_count": 17,
     "metadata": {},
     "output_type": "execute_result"
    }
   ],
   "execution_count": 17
  },
  {
   "metadata": {
    "ExecuteTime": {
     "end_time": "2024-07-14T15:32:55.321435Z",
     "start_time": "2024-07-14T15:32:55.308329Z"
    }
   },
   "cell_type": "code",
   "source": "dffiltered.size",
   "id": "790583598dded760",
   "outputs": [
    {
     "data": {
      "text/plain": [
       "170047232"
      ]
     },
     "execution_count": 18,
     "metadata": {},
     "output_type": "execute_result"
    }
   ],
   "execution_count": 18
  },
  {
   "metadata": {
    "ExecuteTime": {
     "end_time": "2024-07-14T15:35:47.432392Z",
     "start_time": "2024-07-14T15:35:47.097763Z"
    }
   },
   "cell_type": "code",
   "source": "dffiltered[\"mflag\"].unique()",
   "id": "6bfdaa6139bc413c",
   "outputs": [
    {
     "data": {
      "text/plain": [
       "array([nan, 'T', 'B', 'P', 'D'], dtype=object)"
      ]
     },
     "execution_count": 21,
     "metadata": {},
     "output_type": "execute_result"
    }
   ],
   "execution_count": 21
  },
  {
   "metadata": {
    "ExecuteTime": {
     "end_time": "2024-07-14T15:43:17.906196Z",
     "start_time": "2024-07-14T15:43:17.594903Z"
    }
   },
   "cell_type": "code",
   "source": "missing = dffiltered[dffiltered[\"mflag\"].isin([\"P\"])]",
   "id": "97be746b74e24dc6",
   "outputs": [],
   "execution_count": 29
  },
  {
   "metadata": {
    "ExecuteTime": {
     "end_time": "2024-07-14T15:43:19.438362Z",
     "start_time": "2024-07-14T15:43:19.419091Z"
    }
   },
   "cell_type": "code",
   "source": "missing",
   "id": "4e5c71a389d4a14f",
   "outputs": [
    {
     "data": {
      "text/plain": [
       "          stationcode  datelabel param  value mflag qflag sflag    time\n",
       "17798     RQC00667292   19490101  PRCP      0     P   NaN     6     NaN\n",
       "17812     RQW00011603   19490101  PRCP      0     P   NaN     6   800.0\n",
       "23122     USC00018925   19490101  PRCP      0     P   NaN     6     NaN\n",
       "25858     USC00044705   19490101  PRCP      0     P   NaN     6  2400.0\n",
       "28504     USC00084262   19490101  PRCP      0     P   NaN     6     NaN\n",
       "...               ...        ...   ...    ...   ...   ...   ...     ...\n",
       "23781849  USC00515404   19491231  PRCP      0     P     L     6   600.0\n",
       "23782107  USC00518217   19491231  PRCP      0     P     L     6   800.0\n",
       "23782127  USC00518385   19491231  PRCP      0     P   NaN     6     NaN\n",
       "23782249  USC00519014   19491231  PRCP      0     P     L     6     NaN\n",
       "23786450  USW00093104   19491231  PRCP      0     P   NaN     6   700.0\n",
       "\n",
       "[26897 rows x 8 columns]"
      ],
      "text/html": [
       "<div>\n",
       "<style scoped>\n",
       "    .dataframe tbody tr th:only-of-type {\n",
       "        vertical-align: middle;\n",
       "    }\n",
       "\n",
       "    .dataframe tbody tr th {\n",
       "        vertical-align: top;\n",
       "    }\n",
       "\n",
       "    .dataframe thead th {\n",
       "        text-align: right;\n",
       "    }\n",
       "</style>\n",
       "<table border=\"1\" class=\"dataframe\">\n",
       "  <thead>\n",
       "    <tr style=\"text-align: right;\">\n",
       "      <th></th>\n",
       "      <th>stationcode</th>\n",
       "      <th>datelabel</th>\n",
       "      <th>param</th>\n",
       "      <th>value</th>\n",
       "      <th>mflag</th>\n",
       "      <th>qflag</th>\n",
       "      <th>sflag</th>\n",
       "      <th>time</th>\n",
       "    </tr>\n",
       "  </thead>\n",
       "  <tbody>\n",
       "    <tr>\n",
       "      <th>17798</th>\n",
       "      <td>RQC00667292</td>\n",
       "      <td>19490101</td>\n",
       "      <td>PRCP</td>\n",
       "      <td>0</td>\n",
       "      <td>P</td>\n",
       "      <td>NaN</td>\n",
       "      <td>6</td>\n",
       "      <td>NaN</td>\n",
       "    </tr>\n",
       "    <tr>\n",
       "      <th>17812</th>\n",
       "      <td>RQW00011603</td>\n",
       "      <td>19490101</td>\n",
       "      <td>PRCP</td>\n",
       "      <td>0</td>\n",
       "      <td>P</td>\n",
       "      <td>NaN</td>\n",
       "      <td>6</td>\n",
       "      <td>800.0</td>\n",
       "    </tr>\n",
       "    <tr>\n",
       "      <th>23122</th>\n",
       "      <td>USC00018925</td>\n",
       "      <td>19490101</td>\n",
       "      <td>PRCP</td>\n",
       "      <td>0</td>\n",
       "      <td>P</td>\n",
       "      <td>NaN</td>\n",
       "      <td>6</td>\n",
       "      <td>NaN</td>\n",
       "    </tr>\n",
       "    <tr>\n",
       "      <th>25858</th>\n",
       "      <td>USC00044705</td>\n",
       "      <td>19490101</td>\n",
       "      <td>PRCP</td>\n",
       "      <td>0</td>\n",
       "      <td>P</td>\n",
       "      <td>NaN</td>\n",
       "      <td>6</td>\n",
       "      <td>2400.0</td>\n",
       "    </tr>\n",
       "    <tr>\n",
       "      <th>28504</th>\n",
       "      <td>USC00084262</td>\n",
       "      <td>19490101</td>\n",
       "      <td>PRCP</td>\n",
       "      <td>0</td>\n",
       "      <td>P</td>\n",
       "      <td>NaN</td>\n",
       "      <td>6</td>\n",
       "      <td>NaN</td>\n",
       "    </tr>\n",
       "    <tr>\n",
       "      <th>...</th>\n",
       "      <td>...</td>\n",
       "      <td>...</td>\n",
       "      <td>...</td>\n",
       "      <td>...</td>\n",
       "      <td>...</td>\n",
       "      <td>...</td>\n",
       "      <td>...</td>\n",
       "      <td>...</td>\n",
       "    </tr>\n",
       "    <tr>\n",
       "      <th>23781849</th>\n",
       "      <td>USC00515404</td>\n",
       "      <td>19491231</td>\n",
       "      <td>PRCP</td>\n",
       "      <td>0</td>\n",
       "      <td>P</td>\n",
       "      <td>L</td>\n",
       "      <td>6</td>\n",
       "      <td>600.0</td>\n",
       "    </tr>\n",
       "    <tr>\n",
       "      <th>23782107</th>\n",
       "      <td>USC00518217</td>\n",
       "      <td>19491231</td>\n",
       "      <td>PRCP</td>\n",
       "      <td>0</td>\n",
       "      <td>P</td>\n",
       "      <td>L</td>\n",
       "      <td>6</td>\n",
       "      <td>800.0</td>\n",
       "    </tr>\n",
       "    <tr>\n",
       "      <th>23782127</th>\n",
       "      <td>USC00518385</td>\n",
       "      <td>19491231</td>\n",
       "      <td>PRCP</td>\n",
       "      <td>0</td>\n",
       "      <td>P</td>\n",
       "      <td>NaN</td>\n",
       "      <td>6</td>\n",
       "      <td>NaN</td>\n",
       "    </tr>\n",
       "    <tr>\n",
       "      <th>23782249</th>\n",
       "      <td>USC00519014</td>\n",
       "      <td>19491231</td>\n",
       "      <td>PRCP</td>\n",
       "      <td>0</td>\n",
       "      <td>P</td>\n",
       "      <td>L</td>\n",
       "      <td>6</td>\n",
       "      <td>NaN</td>\n",
       "    </tr>\n",
       "    <tr>\n",
       "      <th>23786450</th>\n",
       "      <td>USW00093104</td>\n",
       "      <td>19491231</td>\n",
       "      <td>PRCP</td>\n",
       "      <td>0</td>\n",
       "      <td>P</td>\n",
       "      <td>NaN</td>\n",
       "      <td>6</td>\n",
       "      <td>700.0</td>\n",
       "    </tr>\n",
       "  </tbody>\n",
       "</table>\n",
       "<p>26897 rows × 8 columns</p>\n",
       "</div>"
      ]
     },
     "execution_count": 30,
     "metadata": {},
     "output_type": "execute_result"
    }
   ],
   "execution_count": 30
  },
  {
   "metadata": {},
   "cell_type": "code",
   "outputs": [],
   "execution_count": null,
   "source": "",
   "id": "10b02ccab7eb082d"
  }
 ],
 "metadata": {
  "kernelspec": {
   "display_name": "Python 3",
   "language": "python",
   "name": "python3"
  },
  "language_info": {
   "codemirror_mode": {
    "name": "ipython",
    "version": 2
   },
   "file_extension": ".py",
   "mimetype": "text/x-python",
   "name": "python",
   "nbconvert_exporter": "python",
   "pygments_lexer": "ipython2",
   "version": "2.7.6"
  }
 },
 "nbformat": 4,
 "nbformat_minor": 5
}
