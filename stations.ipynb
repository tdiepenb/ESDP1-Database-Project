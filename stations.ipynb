{
 "cells": [
  {
   "cell_type": "markdown",
   "metadata": {},
   "source": [
    "## Install Libraries"
   ]
  },
  {
   "cell_type": "code",
   "execution_count": 1,
   "metadata": {},
   "outputs": [
    {
     "name": "stdout",
     "output_type": "stream",
     "text": [
      "Requirement already satisfied: pandas in c:\\python312\\lib\\site-packages (2.2.2)\n",
      "Requirement already satisfied: numpy>=1.26.0 in c:\\python312\\lib\\site-packages (from pandas) (2.0.0)\n",
      "Requirement already satisfied: python-dateutil>=2.8.2 in c:\\users\\fabi\\appdata\\roaming\\python\\python312\\site-packages (from pandas) (2.9.0.post0)\n",
      "Requirement already satisfied: pytz>=2020.1 in c:\\python312\\lib\\site-packages (from pandas) (2024.1)\n",
      "Requirement already satisfied: tzdata>=2022.7 in c:\\python312\\lib\\site-packages (from pandas) (2024.1)\n",
      "Requirement already satisfied: six>=1.5 in c:\\python312\\lib\\site-packages (from python-dateutil>=2.8.2->pandas) (1.16.0)\n",
      "Requirement already satisfied: requests in c:\\python312\\lib\\site-packages (2.32.3)\n",
      "Requirement already satisfied: charset-normalizer<4,>=2 in c:\\python312\\lib\\site-packages (from requests) (3.3.2)\n",
      "Requirement already satisfied: idna<4,>=2.5 in c:\\python312\\lib\\site-packages (from requests) (3.7)\n",
      "Requirement already satisfied: urllib3<3,>=1.21.1 in c:\\python312\\lib\\site-packages (from requests) (2.2.1)\n",
      "Requirement already satisfied: certifi>=2017.4.17 in c:\\python312\\lib\\site-packages (from requests) (2024.6.2)\n"
     ]
    }
   ],
   "source": [
    "! pip install pandas\n",
    "! pip install requests\n",
    "! pip install numpy\n",
    "! pip install os"
   ]
  },
  {
   "cell_type": "markdown",
   "metadata": {},
   "source": [
    "## Import Libraries"
   ]
  },
  {
   "cell_type": "code",
   "metadata": {
    "ExecuteTime": {
     "end_time": "2024-06-30T15:54:38.283967Z",
     "start_time": "2024-06-30T15:54:36.994852Z"
    }
   },
   "source": [
    "import pandas as pd\n",
    "from ftplib import FTP\n",
    "import requests   # more convenient for http(s) urls\n",
    "import numpy as np\n",
    "import os"
   ],
   "outputs": [],
   "execution_count": 4
  },
  {
   "cell_type": "markdown",
   "metadata": {},
   "source": [
    "## Download Data"
   ]
  },
  {
   "cell_type": "code",
   "metadata": {
    "ExecuteTime": {
     "end_time": "2024-06-30T15:54:32.608428Z",
     "start_time": "2024-06-30T15:54:32.577103Z"
    }
   },
   "source": [
    "url = \"https://www.ncei.noaa.gov/pub/data/ghcn/daily/ghcnd-stations.txt\"\n",
    "response = requests.get(url)\n",
    "if response.ok:\n",
    "    filename = url.rsplit('/', 1)[1]\n",
    "    print(f\"data downloaded. Will be saved as {filename}\")\n",
    "    directory_path = \"data\"\n",
    "    os.makedirs(directory_path, exist_ok=True)\n",
    "    with open(f\"./data/{filename}\", \"wb\") as f:\n",
    "        f.write(response.content)\n",
    "else:\n",
    "    print(\"An error occured while trying to retrieve the data from the internet.\")\n"
   ],
   "outputs": [
    {
     "ename": "NameError",
     "evalue": "name 'requests' is not defined",
     "output_type": "error",
     "traceback": [
      "\u001B[1;31m---------------------------------------------------------------------------\u001B[0m",
      "\u001B[1;31mNameError\u001B[0m                                 Traceback (most recent call last)",
      "Cell \u001B[1;32mIn[2], line 2\u001B[0m\n\u001B[0;32m      1\u001B[0m url \u001B[38;5;241m=\u001B[39m \u001B[38;5;124m\"\u001B[39m\u001B[38;5;124mhttps://www.ncei.noaa.gov/pub/data/ghcn/daily/ghcnd-stations.txt\u001B[39m\u001B[38;5;124m\"\u001B[39m\n\u001B[1;32m----> 2\u001B[0m response \u001B[38;5;241m=\u001B[39m \u001B[43mrequests\u001B[49m\u001B[38;5;241m.\u001B[39mget(url)\n\u001B[0;32m      3\u001B[0m \u001B[38;5;28;01mif\u001B[39;00m response\u001B[38;5;241m.\u001B[39mok:\n\u001B[0;32m      4\u001B[0m     filename \u001B[38;5;241m=\u001B[39m url\u001B[38;5;241m.\u001B[39mrsplit(\u001B[38;5;124m'\u001B[39m\u001B[38;5;124m/\u001B[39m\u001B[38;5;124m'\u001B[39m, \u001B[38;5;241m1\u001B[39m)[\u001B[38;5;241m1\u001B[39m]\n",
      "\u001B[1;31mNameError\u001B[0m: name 'requests' is not defined"
     ]
    }
   ],
   "execution_count": 2
  },
  {
   "cell_type": "code",
   "metadata": {
    "ExecuteTime": {
     "end_time": "2024-06-30T15:54:33.053126Z",
     "start_time": "2024-06-30T15:54:32.999488Z"
    }
   },
   "source": [
    "# # download the documentation (general readme file and station list)\n",
    "url = \"ftp://ftp.ncei.noaa.gov/pub/data/ghcn/daily\"\n",
    "site, fpath = url.split(\"//\")[1].split(\"/\", 1)\n",
    "with FTP(site) as session:\n",
    "    session.login()  # \"anonymous\", \"your-email@uni-koeln.de\")\n",
    "    session.set_debuglevel(1)\n",
    "    session.cwd(fpath)\n",
    "    directory_path = \"data\"\n",
    "    os.makedirs(directory_path, exist_ok=True)\n",
    "    fname = \"readme.txt\"\n",
    "    with open(f\"./data/{fname}\", 'wb') as local_file:\n",
    "        session.retrbinary(f\"RETR {fname}\", local_file.write)"
   ],
   "outputs": [
    {
     "ename": "NameError",
     "evalue": "name 'FTP' is not defined",
     "output_type": "error",
     "traceback": [
      "\u001B[1;31m---------------------------------------------------------------------------\u001B[0m",
      "\u001B[1;31mNameError\u001B[0m                                 Traceback (most recent call last)",
      "Cell \u001B[1;32mIn[3], line 4\u001B[0m\n\u001B[0;32m      2\u001B[0m url \u001B[38;5;241m=\u001B[39m \u001B[38;5;124m\"\u001B[39m\u001B[38;5;124mftp://ftp.ncei.noaa.gov/pub/data/ghcn/daily\u001B[39m\u001B[38;5;124m\"\u001B[39m\n\u001B[0;32m      3\u001B[0m site, fpath \u001B[38;5;241m=\u001B[39m url\u001B[38;5;241m.\u001B[39msplit(\u001B[38;5;124m\"\u001B[39m\u001B[38;5;124m//\u001B[39m\u001B[38;5;124m\"\u001B[39m)[\u001B[38;5;241m1\u001B[39m]\u001B[38;5;241m.\u001B[39msplit(\u001B[38;5;124m\"\u001B[39m\u001B[38;5;124m/\u001B[39m\u001B[38;5;124m\"\u001B[39m, \u001B[38;5;241m1\u001B[39m)\n\u001B[1;32m----> 4\u001B[0m \u001B[38;5;28;01mwith\u001B[39;00m \u001B[43mFTP\u001B[49m(site) \u001B[38;5;28;01mas\u001B[39;00m session:\n\u001B[0;32m      5\u001B[0m     session\u001B[38;5;241m.\u001B[39mlogin()  \u001B[38;5;66;03m# \"anonymous\", \"your-email@uni-koeln.de\")\u001B[39;00m\n\u001B[0;32m      6\u001B[0m     session\u001B[38;5;241m.\u001B[39mset_debuglevel(\u001B[38;5;241m1\u001B[39m)\n",
      "\u001B[1;31mNameError\u001B[0m: name 'FTP' is not defined"
     ]
    }
   ],
   "execution_count": 3
  },
  {
   "cell_type": "markdown",
   "metadata": {},
   "source": [
    "## Process Data\n",
    "\n",
    "### Stations Structure:\n",
    "| Column name | Index | Data type |\n",
    "| --- | --- | --- |\n",
    "| ID | 1-11 | Character |\n",
    "| LATITUDE | 13-20 | Real |\n",
    "| LONGITUDE | 22-30 | Real |\n",
    "| ELEVATION | 32-37 | Real |\n",
    "| STATE | 39-40 | Character |\n",
    "| NAME | 42-71 | Character |\n",
    "| GSN FLAG | 73-75 | Character |\n",
    "| HCN/CRN FLAG | 77-79 | Character |\n",
    "| WMO ID | 81-85 | Character |\n"
   ]
  },
  {
   "cell_type": "code",
   "metadata": {
    "ExecuteTime": {
     "end_time": "2024-06-30T15:54:56.855737Z",
     "start_time": "2024-06-30T15:54:55.514329Z"
    }
   },
   "source": [
    "file_path = './data/ghcnd-stations.txt'\n",
    "\n",
    "def conv_str(x):\n",
    "    return str(x)\n",
    "def conv_float(x):\n",
    "    return float(x)\n",
    "\n",
    "column_specs = [\n",
    "    (0, 11),   # ID\n",
    "    (12, 20),  # LATITUDE\n",
    "    (21, 30),  # LONGITUDE\n",
    "    (31, 37),  # ELEVATION\n",
    "    (38, 40),  # STATE\n",
    "    (41, 71),  # NAME\n",
    "    (72, 75),  # GSN FLAG\n",
    "    (76, 79),  # HCN/CRN FLAG\n",
    "    (80, 85)   # WMO ID\n",
    "]\n",
    "\n",
    "column_names = [\n",
    "    'ID', 'LATITUDE', 'LONGITUDE', 'ELEVATION', 'STATE', 'NAME', \n",
    "    'GSN FLAG', 'HCN/CRN FLAG', 'WMO ID'\n",
    "]\n",
    "\n",
    "col_conv = {'ID': conv_str, \n",
    "            'LATITUDE': conv_float, \n",
    "            'LONGITUDE': conv_float, \n",
    "            'ELEVATION': conv_float, \n",
    "            'STATE': conv_str, \n",
    "            'NAME': conv_str, \n",
    "            'GSN FLAG': conv_str, \n",
    "            'HCN/CRN FLAG': conv_str, \n",
    "            'WMO ID': conv_str, \n",
    "}\n",
    "\n",
    "\n",
    "df = pd.read_fwf(file_path, colspecs=column_specs, names=column_names, converters=col_conv)\n",
    "\n",
    "## Rename to non-only UPPERCASE letters for the database\n",
    "rename_columns = {\n",
    "    'ID': 'code',\n",
    "    'LATITUDE': 'lat',\n",
    "    'LONGITUDE': 'lon',\n",
    "    'ELEVATION': 'elevation',\n",
    "    'STATE': 'state',\n",
    "    'NAME': 'name',\n",
    "    'GSN FLAG': 'flag1',\n",
    "    'HCN/CRN FLAG': 'flag2',\n",
    "    'WMO ID': 'wmo_id'\n",
    "}\n",
    "\n",
    "# Rename columns using the rename method\n",
    "df.rename(columns=rename_columns, inplace=True)\n",
    "\n",
    "# the readme-stations.txt says that WMO_ID is also a string\n",
    "df['wmo_id'] = df['wmo_id'].astype(str)\n",
    "\n",
    "\n",
    "\n",
    "# df = df.replace(np.nan, '', regex=True)\n",
    "df.replace(['None', 'nan'], np.nan, inplace=True)\n",
    "df = df.fillna('')"
   ],
   "outputs": [],
   "execution_count": 5
  },
  {
   "cell_type": "code",
   "metadata": {
    "ExecuteTime": {
     "end_time": "2024-06-30T16:31:41.162905Z",
     "start_time": "2024-06-30T16:31:41.152074Z"
    }
   },
   "source": "df.head(100)",
   "outputs": [
    {
     "data": {
      "text/plain": [
       "           code      lat      lon  elevation state                   name  \\\n",
       "0   ACW00011604  17.1167 -61.7833       10.1        ST JOHNS COOLIDGE FLD   \n",
       "1   ACW00011647  17.1333 -61.7833       19.2                     ST JOHNS   \n",
       "2   AE000041196  25.3330  55.5170       34.0          SHARJAH INTER. AIRP   \n",
       "3   AEM00041194  25.2550  55.3640       10.4                   DUBAI INTL   \n",
       "4   AEM00041217  24.4330  54.6510       26.8               ABU DHABI INTL   \n",
       "..          ...      ...      ...        ...   ...                    ...   \n",
       "95  AGM00060686  21.3330   0.9500      399.0           BORDJ-BADJ-MOKHTAR   \n",
       "96  AGM00060690  19.5670   5.7670      401.0                   IN-GUEZZAM   \n",
       "97  AJ000037575  41.5500  46.6670      490.0                     ZAKATALA   \n",
       "98  AJ000037579  41.7000  46.8000     1746.0                       ALIBEK   \n",
       "99  AJ000037605  41.3000  45.6000      440.0                   BOGDANOVKA   \n",
       "\n",
       "   flag1 flag2 wmo_id  \n",
       "0                      \n",
       "1                      \n",
       "2    GSN        41196  \n",
       "3               41194  \n",
       "4               41217  \n",
       "..   ...   ...    ...  \n",
       "95              60686  \n",
       "96              60690  \n",
       "97              37575  \n",
       "98              37579  \n",
       "99              37605  \n",
       "\n",
       "[100 rows x 9 columns]"
      ],
      "text/html": [
       "<div>\n",
       "<style scoped>\n",
       "    .dataframe tbody tr th:only-of-type {\n",
       "        vertical-align: middle;\n",
       "    }\n",
       "\n",
       "    .dataframe tbody tr th {\n",
       "        vertical-align: top;\n",
       "    }\n",
       "\n",
       "    .dataframe thead th {\n",
       "        text-align: right;\n",
       "    }\n",
       "</style>\n",
       "<table border=\"1\" class=\"dataframe\">\n",
       "  <thead>\n",
       "    <tr style=\"text-align: right;\">\n",
       "      <th></th>\n",
       "      <th>code</th>\n",
       "      <th>lat</th>\n",
       "      <th>lon</th>\n",
       "      <th>elevation</th>\n",
       "      <th>state</th>\n",
       "      <th>name</th>\n",
       "      <th>flag1</th>\n",
       "      <th>flag2</th>\n",
       "      <th>wmo_id</th>\n",
       "    </tr>\n",
       "  </thead>\n",
       "  <tbody>\n",
       "    <tr>\n",
       "      <th>0</th>\n",
       "      <td>ACW00011604</td>\n",
       "      <td>17.1167</td>\n",
       "      <td>-61.7833</td>\n",
       "      <td>10.1</td>\n",
       "      <td></td>\n",
       "      <td>ST JOHNS COOLIDGE FLD</td>\n",
       "      <td></td>\n",
       "      <td></td>\n",
       "      <td></td>\n",
       "    </tr>\n",
       "    <tr>\n",
       "      <th>1</th>\n",
       "      <td>ACW00011647</td>\n",
       "      <td>17.1333</td>\n",
       "      <td>-61.7833</td>\n",
       "      <td>19.2</td>\n",
       "      <td></td>\n",
       "      <td>ST JOHNS</td>\n",
       "      <td></td>\n",
       "      <td></td>\n",
       "      <td></td>\n",
       "    </tr>\n",
       "    <tr>\n",
       "      <th>2</th>\n",
       "      <td>AE000041196</td>\n",
       "      <td>25.3330</td>\n",
       "      <td>55.5170</td>\n",
       "      <td>34.0</td>\n",
       "      <td></td>\n",
       "      <td>SHARJAH INTER. AIRP</td>\n",
       "      <td>GSN</td>\n",
       "      <td></td>\n",
       "      <td>41196</td>\n",
       "    </tr>\n",
       "    <tr>\n",
       "      <th>3</th>\n",
       "      <td>AEM00041194</td>\n",
       "      <td>25.2550</td>\n",
       "      <td>55.3640</td>\n",
       "      <td>10.4</td>\n",
       "      <td></td>\n",
       "      <td>DUBAI INTL</td>\n",
       "      <td></td>\n",
       "      <td></td>\n",
       "      <td>41194</td>\n",
       "    </tr>\n",
       "    <tr>\n",
       "      <th>4</th>\n",
       "      <td>AEM00041217</td>\n",
       "      <td>24.4330</td>\n",
       "      <td>54.6510</td>\n",
       "      <td>26.8</td>\n",
       "      <td></td>\n",
       "      <td>ABU DHABI INTL</td>\n",
       "      <td></td>\n",
       "      <td></td>\n",
       "      <td>41217</td>\n",
       "    </tr>\n",
       "    <tr>\n",
       "      <th>...</th>\n",
       "      <td>...</td>\n",
       "      <td>...</td>\n",
       "      <td>...</td>\n",
       "      <td>...</td>\n",
       "      <td>...</td>\n",
       "      <td>...</td>\n",
       "      <td>...</td>\n",
       "      <td>...</td>\n",
       "      <td>...</td>\n",
       "    </tr>\n",
       "    <tr>\n",
       "      <th>95</th>\n",
       "      <td>AGM00060686</td>\n",
       "      <td>21.3330</td>\n",
       "      <td>0.9500</td>\n",
       "      <td>399.0</td>\n",
       "      <td></td>\n",
       "      <td>BORDJ-BADJ-MOKHTAR</td>\n",
       "      <td></td>\n",
       "      <td></td>\n",
       "      <td>60686</td>\n",
       "    </tr>\n",
       "    <tr>\n",
       "      <th>96</th>\n",
       "      <td>AGM00060690</td>\n",
       "      <td>19.5670</td>\n",
       "      <td>5.7670</td>\n",
       "      <td>401.0</td>\n",
       "      <td></td>\n",
       "      <td>IN-GUEZZAM</td>\n",
       "      <td></td>\n",
       "      <td></td>\n",
       "      <td>60690</td>\n",
       "    </tr>\n",
       "    <tr>\n",
       "      <th>97</th>\n",
       "      <td>AJ000037575</td>\n",
       "      <td>41.5500</td>\n",
       "      <td>46.6670</td>\n",
       "      <td>490.0</td>\n",
       "      <td></td>\n",
       "      <td>ZAKATALA</td>\n",
       "      <td></td>\n",
       "      <td></td>\n",
       "      <td>37575</td>\n",
       "    </tr>\n",
       "    <tr>\n",
       "      <th>98</th>\n",
       "      <td>AJ000037579</td>\n",
       "      <td>41.7000</td>\n",
       "      <td>46.8000</td>\n",
       "      <td>1746.0</td>\n",
       "      <td></td>\n",
       "      <td>ALIBEK</td>\n",
       "      <td></td>\n",
       "      <td></td>\n",
       "      <td>37579</td>\n",
       "    </tr>\n",
       "    <tr>\n",
       "      <th>99</th>\n",
       "      <td>AJ000037605</td>\n",
       "      <td>41.3000</td>\n",
       "      <td>45.6000</td>\n",
       "      <td>440.0</td>\n",
       "      <td></td>\n",
       "      <td>BOGDANOVKA</td>\n",
       "      <td></td>\n",
       "      <td></td>\n",
       "      <td>37605</td>\n",
       "    </tr>\n",
       "  </tbody>\n",
       "</table>\n",
       "<p>100 rows × 9 columns</p>\n",
       "</div>"
      ]
     },
     "execution_count": 8,
     "metadata": {},
     "output_type": "execute_result"
    }
   ],
   "execution_count": 8
  },
  {
   "cell_type": "code",
   "execution_count": 17,
   "metadata": {},
   "outputs": [
    {
     "data": {
      "text/html": [
       "<div>\n",
       "<style scoped>\n",
       "    .dataframe tbody tr th:only-of-type {\n",
       "        vertical-align: middle;\n",
       "    }\n",
       "\n",
       "    .dataframe tbody tr th {\n",
       "        vertical-align: top;\n",
       "    }\n",
       "\n",
       "    .dataframe thead th {\n",
       "        text-align: right;\n",
       "    }\n",
       "</style>\n",
       "<table border=\"1\" class=\"dataframe\">\n",
       "  <thead>\n",
       "    <tr style=\"text-align: right;\">\n",
       "      <th></th>\n",
       "      <th>Latitude</th>\n",
       "      <th>Longitude</th>\n",
       "      <th>Elevation</th>\n",
       "    </tr>\n",
       "  </thead>\n",
       "  <tbody>\n",
       "    <tr>\n",
       "      <th>count</th>\n",
       "      <td>125988.000000</td>\n",
       "      <td>125988.000000</td>\n",
       "      <td>125988.000000</td>\n",
       "    </tr>\n",
       "    <tr>\n",
       "      <th>mean</th>\n",
       "      <td>25.741179</td>\n",
       "      <td>-44.342157</td>\n",
       "      <td>447.031776</td>\n",
       "    </tr>\n",
       "    <tr>\n",
       "      <th>std</th>\n",
       "      <td>28.323435</td>\n",
       "      <td>89.398500</td>\n",
       "      <td>656.340957</td>\n",
       "    </tr>\n",
       "    <tr>\n",
       "      <th>min</th>\n",
       "      <td>-90.000000</td>\n",
       "      <td>-179.994700</td>\n",
       "      <td>-999.900000</td>\n",
       "    </tr>\n",
       "    <tr>\n",
       "      <th>25%</th>\n",
       "      <td>20.919175</td>\n",
       "      <td>-100.540050</td>\n",
       "      <td>85.000000</td>\n",
       "    </tr>\n",
       "    <tr>\n",
       "      <th>50%</th>\n",
       "      <td>36.916850</td>\n",
       "      <td>-84.727500</td>\n",
       "      <td>257.600000</td>\n",
       "    </tr>\n",
       "    <tr>\n",
       "      <th>75%</th>\n",
       "      <td>42.820450</td>\n",
       "      <td>2.072075</td>\n",
       "      <td>596.800000</td>\n",
       "    </tr>\n",
       "    <tr>\n",
       "      <th>max</th>\n",
       "      <td>83.650000</td>\n",
       "      <td>179.741400</td>\n",
       "      <td>5033.000000</td>\n",
       "    </tr>\n",
       "  </tbody>\n",
       "</table>\n",
       "</div>"
      ],
      "text/plain": [
       "            Latitude      Longitude      Elevation\n",
       "count  125988.000000  125988.000000  125988.000000\n",
       "mean       25.741179     -44.342157     447.031776\n",
       "std        28.323435      89.398500     656.340957\n",
       "min       -90.000000    -179.994700    -999.900000\n",
       "25%        20.919175    -100.540050      85.000000\n",
       "50%        36.916850     -84.727500     257.600000\n",
       "75%        42.820450       2.072075     596.800000\n",
       "max        83.650000     179.741400    5033.000000"
      ]
     },
     "execution_count": 17,
     "metadata": {},
     "output_type": "execute_result"
    }
   ],
   "source": [
    "df.describe()"
   ]
  },
  {
   "cell_type": "code",
   "execution_count": 18,
   "metadata": {},
   "outputs": [
    {
     "name": "stdout",
     "output_type": "stream",
     "text": [
      "<class 'pandas.core.frame.DataFrame'>\n",
      "RangeIndex: 125988 entries, 0 to 125987\n",
      "Data columns (total 9 columns):\n",
      " #   Column        Non-Null Count   Dtype  \n",
      "---  ------        --------------   -----  \n",
      " 0   Station_ID    125988 non-null  object \n",
      " 1   Latitude      125988 non-null  float64\n",
      " 2   Longitude     125988 non-null  float64\n",
      " 3   Elevation     125988 non-null  float64\n",
      " 4   State         125988 non-null  object \n",
      " 5   Station_Name  125988 non-null  object \n",
      " 6   GSN_Flag      125988 non-null  object \n",
      " 7   HCN_CRN_Flag  125988 non-null  object \n",
      " 8   WMO_ID        125988 non-null  object \n",
      "dtypes: float64(3), object(6)\n",
      "memory usage: 8.7+ MB\n"
     ]
    }
   ],
   "source": [
    "df.info()"
   ]
  },
  {
   "cell_type": "markdown",
   "metadata": {},
   "source": [
    "## Export dataframe to CSV file"
   ]
  },
  {
   "cell_type": "code",
   "execution_count": 7,
   "metadata": {},
   "outputs": [],
   "source": [
    "directory_path = \"data/export\"\n",
    "os.makedirs(directory_path, exist_ok=True)\n",
    "df.to_csv(\"./data/export/modified_stations.csv\", index=False)"
   ]
  }
 ],
 "metadata": {
  "kernelspec": {
   "display_name": "Python 3",
   "language": "python",
   "name": "python3"
  },
  "language_info": {
   "codemirror_mode": {
    "name": "ipython",
    "version": 3
   },
   "file_extension": ".py",
   "mimetype": "text/x-python",
   "name": "python",
   "nbconvert_exporter": "python",
   "pygments_lexer": "ipython3",
   "version": "3.12.3"
  }
 },
 "nbformat": 4,
 "nbformat_minor": 2
}
