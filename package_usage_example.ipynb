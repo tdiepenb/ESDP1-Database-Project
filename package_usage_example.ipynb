{
 "cells": [
  {
   "metadata": {
    "ExecuteTime": {
     "end_time": "2024-07-14T22:44:03.265227Z",
     "start_time": "2024-07-14T22:44:02.115529Z"
    }
   },
   "cell_type": "code",
   "source": [
    "from nceiDatabaseConnector.nceiDatabasePackage.nceiDataManager import NCEIDataManager\n",
    "from nceiDatabaseConnector.nceiDatabasePackage.nceiDatabaseManager import NCEIDatabaseManager"
   ],
   "id": "60dda2497a88f077",
   "outputs": [],
   "execution_count": 1
  },
  {
   "cell_type": "code",
   "id": "initial_id",
   "metadata": {
    "collapsed": true,
    "ExecuteTime": {
     "end_time": "2024-07-14T22:44:03.270703Z",
     "start_time": "2024-07-14T22:44:03.265227Z"
    }
   },
   "source": [
    "years = [1949, 1950]\n",
    "stationsFilePath = \"./data/stations/\"\n",
    "modifiedStationsFilePath = \"./data/stations/modifiedStations/\"\n",
    "downloadCSVFilePath = \"./data/NCEI/ghcn/daily/\"\n",
    "modifiedCSVFilePath = \"./data/NCEI/modified/daily/\"\n",
    "dbname = \"NCEIDatabase\"\n",
    "dbuser = \"ESDP\"\n",
    "dbpassword = \"esdp1\"\n"
   ],
   "outputs": [],
   "execution_count": 2
  },
  {
   "metadata": {
    "ExecuteTime": {
     "end_time": "2024-07-14T22:44:03.281886Z",
     "start_time": "2024-07-14T22:44:03.270703Z"
    }
   },
   "cell_type": "code",
   "source": [
    "#This command writes the dbname, dbuser and dbpassword to an env file which is used by the docker-container during postgresql setup\n",
    "envVariables = {\n",
    "    \"DATABASE_NAME\": dbname,\n",
    "    \"DATABASE_USER\": dbuser,\n",
    "    \"DATABASE_PASSWORD\": dbpassword,\n",
    "}\n",
    "\n",
    "with open(\".env\", \"w\") as env_file:\n",
    "    for key, value in envVariables.items():\n",
    "        env_file.write(f\"{key}={value}\\n\")\n",
    "\n",
    "print(\".env file created successfully.\")\n"
   ],
   "id": "be1e43fa0993ce4b",
   "outputs": [
    {
     "name": "stdout",
     "output_type": "stream",
     "text": [
      ".env file created successfully.\n"
     ]
    }
   ],
   "execution_count": 3
  },
  {
   "metadata": {
    "ExecuteTime": {
     "end_time": "2024-07-14T22:38:28.685074Z",
     "start_time": "2024-07-14T22:38:27.589626Z"
    }
   },
   "cell_type": "code",
   "source": [
    "#!docker-compose up -d --build\n",
    "!docker-compose up -d"
   ],
   "id": "37a2255f3ffb639c",
   "outputs": [
    {
     "name": "stderr",
     "output_type": "stream",
     "text": [
      "time=\"2024-07-15T00:38:27+02:00\" level=warning msg=\"C:\\\\Users\\\\maoka\\\\git\\\\ESDP1\\\\ESDP1-Database-Project\\\\docker-compose.yml: `version` is obsolete\"\n",
      " Container esdp1-database-project-db-1  Created\n",
      " Container esdp1-database-project-db-1  Starting\n",
      " Container esdp1-database-project-db-1  Started\n"
     ]
    }
   ],
   "execution_count": 6
  },
  {
   "metadata": {
    "ExecuteTime": {
     "end_time": "2024-07-14T22:53:16.472073Z",
     "start_time": "2024-07-14T22:53:15.369639Z"
    }
   },
   "cell_type": "code",
   "source": [
    "# run this to stop the docker container (but keep the data in the database for later)\n",
    "!docker-compose stop\n",
    "# run this to stop and remove the docker container (you will loose all the data within the database and will have to set it up again)\n",
    "#!docker-compose down"
   ],
   "id": "17d116af11ef1beb",
   "outputs": [
    {
     "name": "stderr",
     "output_type": "stream",
     "text": [
      "time=\"2024-07-15T00:53:15+02:00\" level=warning msg=\"C:\\\\Users\\\\maoka\\\\git\\\\ESDP1\\\\ESDP1-Database-Project\\\\docker-compose.yml: `version` is obsolete\"\n",
      " Container esdp1-database-project-db-1  Stopping\n",
      " Container esdp1-database-project-db-1  Stopped\n"
     ]
    }
   ],
   "execution_count": 9
  },
  {
   "metadata": {
    "ExecuteTime": {
     "end_time": "2024-07-14T22:44:06.207628Z",
     "start_time": "2024-07-14T22:44:06.196922Z"
    }
   },
   "cell_type": "code",
   "source": [
    "host = \"localhost\"\n",
    "port = \"5432\"\n",
    "\n",
    "#this defines the names of the columns in the postgresql database\n",
    "stationCols = [\"id\", \"latitude\", \"longitude\", \"elevation\", \"state\", \"name\", \"gsn_flag\", \"hcn_crn_flag\", \"wmo_id\"]\n",
    "weatherCols = [\"id\", \"stationcode\", \"datelabel\", \"param\", \"value\", \"mflag\", \"qflag\", \"sflag\", \"time\"]\n"
   ],
   "id": "972c0b28b1caa833",
   "outputs": [],
   "execution_count": 5
  },
  {
   "metadata": {
    "ExecuteTime": {
     "end_time": "2024-07-14T22:44:08.406227Z",
     "start_time": "2024-07-14T22:44:08.388948Z"
    }
   },
   "cell_type": "code",
   "source": [
    "dataManager = NCEIDataManager()\n",
    "nceiDatabaseManager = NCEIDatabaseManager(db_name=dbname, db_user=dbuser, db_password=dbpassword, db_host=host,\n",
    "                                          db_port=port, weather_cols=weatherCols, station_cols=stationCols)"
   ],
   "id": "532cd98f189f1923",
   "outputs": [],
   "execution_count": 6
  },
  {
   "metadata": {
    "ExecuteTime": {
     "end_time": "2024-07-14T22:14:12.021177Z",
     "start_time": "2024-07-14T22:14:08.238698Z"
    }
   },
   "cell_type": "code",
   "source": "dataManager.download_stations(stationsFilePath)",
   "id": "a0470fb1dfb00222",
   "outputs": [
    {
     "name": "stdout",
     "output_type": "stream",
     "text": [
      "Data downloaded. Will be saved as ghcnd-stations.txt in ./data/stations/\n",
      "Data downloaded. Will be saved as readme.txt in ./data/stations/\n",
      "Data downloaded and saved in ./data/stations/\n"
     ]
    }
   ],
   "execution_count": 7
  },
  {
   "metadata": {
    "ExecuteTime": {
     "end_time": "2024-07-14T14:26:12.674786Z",
     "start_time": "2024-07-14T14:26:11.390836Z"
    }
   },
   "cell_type": "code",
   "source": "dataManager.convert_stations(stationsFilePath, modifiedStationsFilePath)",
   "id": "61a506b685a9bd86",
   "outputs": [
    {
     "name": "stdout",
     "output_type": "stream",
     "text": [
      "Saved the modified stations file to ./data/stations/modifiedStations//modified_stations.csv\n"
     ]
    }
   ],
   "execution_count": 10
  },
  {
   "metadata": {
    "ExecuteTime": {
     "end_time": "2024-07-14T14:30:01.981970Z",
     "start_time": "2024-07-14T14:29:18.366784Z"
    }
   },
   "cell_type": "code",
   "source": "dataManager.download_years(years, downloadCSVFilePath)",
   "id": "f978574a926f96b2",
   "outputs": [
    {
     "name": "stdout",
     "output_type": "stream",
     "text": [
      "...Downloading data from year 1949....\n",
      "Data downloaded. Will be saved as 1949.csv.gz\n",
      "Data from year 1949 downloaded and saved.\n",
      "...Downloading data from year 1950....\n",
      "Data downloaded. Will be saved as 1950.csv.gz\n",
      "Data from year 1950 downloaded and saved.\n"
     ]
    }
   ],
   "execution_count": 11
  },
  {
   "metadata": {
    "ExecuteTime": {
     "end_time": "2024-07-14T14:33:57.827627Z",
     "start_time": "2024-07-14T14:30:24.627075Z"
    }
   },
   "cell_type": "code",
   "source": "dataManager.export_downloaded_years(years, downloadCSVFilePath, modifiedCSVFilePath)",
   "id": "d51c7a7782f8f82b",
   "outputs": [
    {
     "name": "stdout",
     "output_type": "stream",
     "text": [
      "...Year 1949 processing...\n",
      "Loading data from year 1949\n",
      "Data from year 1949 loaded.\n",
      "Export of year 1949 finished.\n",
      "...Year 1950 processing...\n",
      "Loading data from year 1950\n",
      "Data from year 1950 loaded.\n",
      "Export of year 1950 finished.\n"
     ]
    }
   ],
   "execution_count": 12
  },
  {
   "metadata": {
    "ExecuteTime": {
     "end_time": "2024-07-14T17:59:28.447215Z",
     "start_time": "2024-07-14T17:59:27.571149Z"
    }
   },
   "cell_type": "code",
   "source": [
    "file_path = f\"{modifiedStationsFilePath}modified_stations.csv\"\n",
    "nceiDatabaseManager.insert_copy(file_path, \"Station\", stationCols)"
   ],
   "id": "b82905d4652074b2",
   "outputs": [
    {
     "name": "stdout",
     "output_type": "stream",
     "text": [
      "Copying file ./data/stations/modifiedStations/modified_stations.csv to database Station\n",
      "Insert with copy of file ./data/stations/modifiedStations/modified_stations.csv to table: Station done.\n",
      "Row count after insertion in table Station: 127994\n"
     ]
    }
   ],
   "execution_count": 14
  },
  {
   "metadata": {
    "ExecuteTime": {
     "end_time": "2024-07-14T22:44:17.122250Z",
     "start_time": "2024-07-14T22:44:15.389228Z"
    }
   },
   "cell_type": "code",
   "source": [
    "nceiDatabaseManager.drop_table(\"Climate1949\")\n",
    "nceiDatabaseManager.drop_table(\"Climate1950\")"
   ],
   "id": "36a3a685ff5a602",
   "outputs": [
    {
     "name": "stdout",
     "output_type": "stream",
     "text": [
      "Connected to database NCEIDatabase with user ESDP\n",
      "Table Climate1949 dropped successfully.\n",
      "Disconnected\n",
      "Connected to database NCEIDatabase with user ESDP\n",
      "Table Climate1950 dropped successfully.\n",
      "Disconnected\n"
     ]
    }
   ],
   "execution_count": 7
  },
  {
   "metadata": {
    "ExecuteTime": {
     "end_time": "2024-07-14T22:49:15.082611Z",
     "start_time": "2024-07-14T22:44:18.306314Z"
    }
   },
   "cell_type": "code",
   "source": [
    "for year in years:\n",
    "    filePath = f\"{modifiedCSVFilePath}modified_{year}.csv\"\n",
    "    tableName = nceiDatabaseManager.create_climate_table(year=year)\n",
    "    nceiDatabaseManager.multi_threaded_insert(file_path=filePath, table_name=tableName, columns=weatherCols,\n",
    "                                              num_threads=4)\n"
   ],
   "id": "adc9c79c60853a50",
   "outputs": [
    {
     "name": "stdout",
     "output_type": "stream",
     "text": [
      "Connected to database NCEIDatabase with user ESDP\n",
      "Table Climate1949 created successfully.\n",
      "Disconnected\n",
      "Total Number of lines: 18089253\n",
      "Chunk size is 4522314\n",
      "Splitting ./data/NCEI/modified/daily/modified_1949.csv into 4 chunks of size 4522314.\n",
      "Writing chunk 0 file to ./data/NCEI/modified/daily/modified_1949_chunk0.csv with size 4522314\n",
      "Writing chunk 1 file to ./data/NCEI/modified/daily/modified_1949_chunk1.csv with size 4522314\n",
      "Writing chunk 2 file to ./data/NCEI/modified/daily/modified_1949_chunk2.csv with size 4522314\n",
      "Writing chunk 3 file to ./data/NCEI/modified/daily/modified_1949_chunk3.csv with size 4522311\n",
      "Thread started for chunk: ./data/NCEI/modified/daily/modified_1949_chunk0.csv\n",
      "Thread started for chunk: ./data/NCEI/modified/daily/modified_1949_chunk1.csv\n",
      "Thread started for chunk: ./data/NCEI/modified/daily/modified_1949_chunk2.csv\n",
      "Thread started for chunk: ./data/NCEI/modified/daily/modified_1949_chunk3.csv\n",
      "Connected to database NCEIDatabase with user ESDP\n",
      "Connected to database NCEIDatabase with user ESDP\n",
      "Connected to database NCEIDatabase with user ESDP\n",
      "Connected to database NCEIDatabase with user ESDP\n",
      "Thread for chunk ./data/NCEI/modified/daily/modified_1949_chunk3.csv completed.\n",
      "Thread for chunk ./data/NCEI/modified/daily/modified_1949_chunk0.csv completed.\n",
      "Thread for chunk ./data/NCEI/modified/daily/modified_1949_chunk2.csv completed.\n",
      "Thread for chunk ./data/NCEI/modified/daily/modified_1949_chunk1.csv completed.\n",
      "Connected to database NCEIDatabase with user ESDP\n",
      "The table Climate1949 contains 18089253 rows.\n",
      "Disconnected\n",
      "Multi-threaded insert completed for Climate1949.\n",
      "Connected to database NCEIDatabase with user ESDP\n",
      "Table Climate1950 created successfully.\n",
      "Disconnected\n",
      "Total Number of lines: 18503793\n",
      "Chunk size is 4625949\n",
      "Splitting ./data/NCEI/modified/daily/modified_1950.csv into 4 chunks of size 4625949.\n",
      "Writing chunk 0 file to ./data/NCEI/modified/daily/modified_1950_chunk0.csv with size 4625949\n",
      "Writing chunk 1 file to ./data/NCEI/modified/daily/modified_1950_chunk1.csv with size 4625949\n",
      "Writing chunk 2 file to ./data/NCEI/modified/daily/modified_1950_chunk2.csv with size 4625949\n",
      "Writing chunk 3 file to ./data/NCEI/modified/daily/modified_1950_chunk3.csv with size 4625946\n",
      "Thread started for chunk: ./data/NCEI/modified/daily/modified_1950_chunk0.csv\n",
      "Thread started for chunk: ./data/NCEI/modified/daily/modified_1950_chunk1.csv\n",
      "Thread started for chunk: ./data/NCEI/modified/daily/modified_1950_chunk2.csv\n",
      "Thread started for chunk: ./data/NCEI/modified/daily/modified_1950_chunk3.csv\n",
      "Connected to database NCEIDatabase with user ESDP\n",
      "Connected to database NCEIDatabase with user ESDP\n",
      "Connected to database NCEIDatabase with user ESDP\n",
      "Connected to database NCEIDatabase with user ESDP\n",
      "Thread for chunk ./data/NCEI/modified/daily/modified_1950_chunk3.csv completed.\n",
      "Thread for chunk ./data/NCEI/modified/daily/modified_1950_chunk1.csv completed.\n",
      "Thread for chunk ./data/NCEI/modified/daily/modified_1950_chunk0.csv completed.\n",
      "Thread for chunk ./data/NCEI/modified/daily/modified_1950_chunk2.csv completed.\n",
      "Connected to database NCEIDatabase with user ESDP\n",
      "The table Climate1950 contains 18503793 rows.\n",
      "Disconnected\n",
      "Multi-threaded insert completed for Climate1950.\n"
     ]
    }
   ],
   "execution_count": 8
  },
  {
   "metadata": {},
   "cell_type": "code",
   "outputs": [],
   "execution_count": null,
   "source": "",
   "id": "a184d29bad9da55"
  }
 ],
 "metadata": {
  "kernelspec": {
   "display_name": "Python 3",
   "language": "python",
   "name": "python3"
  },
  "language_info": {
   "codemirror_mode": {
    "name": "ipython",
    "version": 2
   },
   "file_extension": ".py",
   "mimetype": "text/x-python",
   "name": "python",
   "nbconvert_exporter": "python",
   "pygments_lexer": "ipython2",
   "version": "2.7.6"
  }
 },
 "nbformat": 4,
 "nbformat_minor": 5
}
