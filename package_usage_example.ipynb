{
 "cells": [
  {
   "metadata": {
    "ExecuteTime": {
     "end_time": "2024-07-14T22:14:08.185320Z",
     "start_time": "2024-07-14T22:14:06.139765Z"
    }
   },
   "cell_type": "code",
   "source": [
    "from nceiDatabaseConnector.nceiDatabasePackage.nceiDataManager import NCEIDataManager\n",
    "from nceiDatabaseConnector.nceiDatabasePackage.nceiDatabaseManager import NCEIDatabaseManager"
   ],
   "id": "60dda2497a88f077",
   "outputs": [],
   "execution_count": 1
  },
  {
   "cell_type": "code",
   "id": "initial_id",
   "metadata": {
    "collapsed": true,
    "ExecuteTime": {
     "end_time": "2024-07-14T22:14:08.192632Z",
     "start_time": "2024-07-14T22:14:08.185320Z"
    }
   },
   "source": [
    "years = [1949, 1950]\n",
    "stationsFilePath = \"./data/stations/\"\n",
    "modifiedStationsFilePath = \"./data/stations/modifiedStations/\"\n",
    "downloadCSVFilePath = \"./data/NCEI/ghcn/daily/\"\n",
    "modifiedCSVFilePath = \"./data/NCEI/modified/daily/\"\n",
    "dbname = \"NCEIDatabase\"\n",
    "dbuser = \"ESDP\"\n",
    "dbpassword = \"esdp1\"\n"
   ],
   "outputs": [],
   "execution_count": 2
  },
  {
   "metadata": {
    "ExecuteTime": {
     "end_time": "2024-07-14T22:14:08.200951Z",
     "start_time": "2024-07-14T22:14:08.192632Z"
    }
   },
   "cell_type": "code",
   "source": [
    "#This command writes the dbname, dbuser and dbpassword to an env file which is used by the docker-container during postgresql setup\n",
    "envVariables = {\n",
    "    \"DATABASE_NAME\": dbname,\n",
    "    \"DATABASE_USER\": dbuser,\n",
    "    \"DATABASE_PASSWORD\": dbpassword,\n",
    "}\n",
    "\n",
    "with open(\".env\", \"w\") as env_file:\n",
    "    for key, value in envVariables.items():\n",
    "        env_file.write(f\"{key}={value}\\n\")\n",
    "\n",
    "print(\".env file created successfully.\")\n"
   ],
   "id": "be1e43fa0993ce4b",
   "outputs": [
    {
     "name": "stdout",
     "output_type": "stream",
     "text": [
      ".env file created successfully.\n"
     ]
    }
   ],
   "execution_count": 3
  },
  {
   "metadata": {
    "ExecuteTime": {
     "end_time": "2024-07-14T22:14:08.206526Z",
     "start_time": "2024-07-14T22:14:08.200951Z"
    }
   },
   "cell_type": "code",
   "source": [
    "#!docker-compose up -d --build\n",
    "#!docker-compose up -d"
   ],
   "id": "37a2255f3ffb639c",
   "outputs": [],
   "execution_count": 4
  },
  {
   "metadata": {
    "ExecuteTime": {
     "end_time": "2024-07-14T22:14:08.214348Z",
     "start_time": "2024-07-14T22:14:08.206526Z"
    }
   },
   "cell_type": "code",
   "source": [
    "host = \"localhost\"\n",
    "port = \"5432\"\n",
    "\n",
    "#this defines the names of the columns in the postgresql database\n",
    "stationCols = [\"id\", \"latitude\", \"longitude\", \"elevation\", \"state\", \"name\", \"gsn_flag\", \"hcn_crn_flag\", \"wmo_id\"]\n",
    "weatherCols = [\"id\", \"stationcode\", \"datelabel\", \"param\", \"value\", \"mflag\", \"qflag\", \"sflag\", \"time\"]\n"
   ],
   "id": "972c0b28b1caa833",
   "outputs": [],
   "execution_count": 5
  },
  {
   "metadata": {
    "ExecuteTime": {
     "end_time": "2024-07-14T22:14:08.238698Z",
     "start_time": "2024-07-14T22:14:08.214348Z"
    }
   },
   "cell_type": "code",
   "source": [
    "dataManager = NCEIDataManager()\n",
    "nceiDatabaseManager = NCEIDatabaseManager(db_name=dbname, db_user=dbuser, db_password=dbpassword, db_host=host, db_port=port)"
   ],
   "id": "532cd98f189f1923",
   "outputs": [
    {
     "name": "stdout",
     "output_type": "stream",
     "text": [
      "Connected to database NCEIDatabase with user ESDP\n"
     ]
    }
   ],
   "execution_count": 6
  },
  {
   "metadata": {
    "ExecuteTime": {
     "end_time": "2024-07-14T22:14:12.021177Z",
     "start_time": "2024-07-14T22:14:08.238698Z"
    }
   },
   "cell_type": "code",
   "source": "dataManager.download_stations(stationsFilePath)",
   "id": "a0470fb1dfb00222",
   "outputs": [
    {
     "name": "stdout",
     "output_type": "stream",
     "text": [
      "Data downloaded. Will be saved as ghcnd-stations.txt in ./data/stations/\n",
      "Data downloaded. Will be saved as readme.txt in ./data/stations/\n",
      "Data downloaded and saved in ./data/stations/\n"
     ]
    }
   ],
   "execution_count": 7
  },
  {
   "metadata": {
    "ExecuteTime": {
     "end_time": "2024-07-14T14:26:12.674786Z",
     "start_time": "2024-07-14T14:26:11.390836Z"
    }
   },
   "cell_type": "code",
   "source": "dataManager.convert_stations(stationsFilePath, modifiedStationsFilePath)",
   "id": "61a506b685a9bd86",
   "outputs": [
    {
     "name": "stdout",
     "output_type": "stream",
     "text": [
      "Saved the modified stations file to ./data/stations/modifiedStations//modified_stations.csv\n"
     ]
    }
   ],
   "execution_count": 10
  },
  {
   "metadata": {
    "ExecuteTime": {
     "end_time": "2024-07-14T14:30:01.981970Z",
     "start_time": "2024-07-14T14:29:18.366784Z"
    }
   },
   "cell_type": "code",
   "source": "dataManager.download_years(years, downloadCSVFilePath)",
   "id": "f978574a926f96b2",
   "outputs": [
    {
     "name": "stdout",
     "output_type": "stream",
     "text": [
      "...Downloading data from year 1949....\n",
      "Data downloaded. Will be saved as 1949.csv.gz\n",
      "Data from year 1949 downloaded and saved.\n",
      "...Downloading data from year 1950....\n",
      "Data downloaded. Will be saved as 1950.csv.gz\n",
      "Data from year 1950 downloaded and saved.\n"
     ]
    }
   ],
   "execution_count": 11
  },
  {
   "metadata": {
    "ExecuteTime": {
     "end_time": "2024-07-14T14:33:57.827627Z",
     "start_time": "2024-07-14T14:30:24.627075Z"
    }
   },
   "cell_type": "code",
   "source": "dataManager.export_downloaded_years(years, downloadCSVFilePath, modifiedCSVFilePath)",
   "id": "d51c7a7782f8f82b",
   "outputs": [
    {
     "name": "stdout",
     "output_type": "stream",
     "text": [
      "...Year 1949 processing...\n",
      "Loading data from year 1949\n",
      "Data from year 1949 loaded.\n",
      "Export of year 1949 finished.\n",
      "...Year 1950 processing...\n",
      "Loading data from year 1950\n",
      "Data from year 1950 loaded.\n",
      "Export of year 1950 finished.\n"
     ]
    }
   ],
   "execution_count": 12
  },
  {
   "metadata": {
    "ExecuteTime": {
     "end_time": "2024-07-14T14:40:32.996271Z",
     "start_time": "2024-07-14T14:40:32.855070Z"
    }
   },
   "cell_type": "code",
   "source": "nceiDatabaseManager.create_stations_table()",
   "id": "6fd2f22697c7303b",
   "outputs": [
    {
     "name": "stdout",
     "output_type": "stream",
     "text": [
      "Station table created.\n"
     ]
    }
   ],
   "execution_count": 13
  },
  {
   "metadata": {
    "ExecuteTime": {
     "end_time": "2024-07-14T17:59:28.447215Z",
     "start_time": "2024-07-14T17:59:27.571149Z"
    }
   },
   "cell_type": "code",
   "source": [
    "file_path = f\"{modifiedStationsFilePath}modified_stations.csv\"\n",
    "nceiDatabaseManager.insert_copy(file_path, \"Station\", stationCols)"
   ],
   "id": "b82905d4652074b2",
   "outputs": [
    {
     "name": "stdout",
     "output_type": "stream",
     "text": [
      "Copying file ./data/stations/modifiedStations/modified_stations.csv to database Station\n",
      "Insert with copy of file ./data/stations/modifiedStations/modified_stations.csv to table: Station done.\n",
      "Row count after insertion in table Station: 127994\n"
     ]
    }
   ],
   "execution_count": 14
  },
  {
   "metadata": {
    "ExecuteTime": {
     "end_time": "2024-07-14T22:14:18.449346Z",
     "start_time": "2024-07-14T22:14:16.979325Z"
    }
   },
   "cell_type": "code",
   "source": [
    "nceiDatabaseManager.drop_table(\"Climate1949\")\n",
    "nceiDatabaseManager.drop_table(\"Climate1950\")"
   ],
   "id": "36a3a685ff5a602",
   "outputs": [
    {
     "name": "stdout",
     "output_type": "stream",
     "text": [
      "Table Climate1949 dropped successfully.\n",
      "Table Climate1950 dropped successfully.\n"
     ]
    }
   ],
   "execution_count": 8
  },
  {
   "metadata": {
    "ExecuteTime": {
     "end_time": "2024-07-14T22:20:21.911865Z",
     "start_time": "2024-07-14T22:14:23.908601Z"
    }
   },
   "cell_type": "code",
   "source": [
    "for year in years:\n",
    "    filePath = f\"{modifiedCSVFilePath}modified_{year}.csv\"\n",
    "    nceiDatabaseManager.create_climate_table(year=year)\n",
    "    tableName = f\"Climate{year}\"\n",
    "    nceiDatabaseManager.multi_threaded_insert(file_path=filePath, table_name=tableName, columns=weatherCols, num_threads=4)\n"
   ],
   "id": "adc9c79c60853a50",
   "outputs": [
    {
     "name": "stdout",
     "output_type": "stream",
     "text": [
      "Table Climate1949 created successfully.\n",
      "Total Number of lines: 18089253\n",
      "Chunk size is 4522314.0\n",
      "Splitting ./data/NCEI/modified/daily/modified_1949.csv into 4 chunks of size 4522314.0.\n",
      "Writing chunk 0 file to ./data/NCEI/modified/daily/modified_1949_chunk0.csv\n",
      "Writing chunk 1 file to ./data/NCEI/modified/daily/modified_1949_chunk1.csv\n",
      "Writing chunk 2 file to ./data/NCEI/modified/daily/modified_1949_chunk2.csv\n",
      "Thread started for chunk: ./data/NCEI/modified/daily/modified_1949_chunk0.csv\n",
      "Thread started for chunk: ./data/NCEI/modified/daily/modified_1949_chunk1.csv\n",
      "Thread started for chunk: ./data/NCEI/modified/daily/modified_1949_chunk2.csv\n",
      "Thread started for chunk: ./data/NCEI/modified/daily/modified_1949_chunk3.csv\n",
      "Thread for chunk ./data/NCEI/modified/daily/modified_1949_chunk3.csv completed.\n",
      "Thread for chunk ./data/NCEI/modified/daily/modified_1949_chunk1.csv completed.\n",
      "Thread for chunk ./data/NCEI/modified/daily/modified_1949_chunk0.csv completed.\n",
      "Thread for chunk ./data/NCEI/modified/daily/modified_1949_chunk2.csv completed.\n",
      "The table Climate1949 contains 18089253 rows.\n",
      "Multi-threaded insert completed.\n",
      "Table Climate1950 created successfully.\n",
      "Total Number of lines: 18503793\n",
      "Chunk size is 4625949.0\n",
      "Splitting ./data/NCEI/modified/daily/modified_1950.csv into 4 chunks of size 4625949.0.\n",
      "Writing chunk 0 file to ./data/NCEI/modified/daily/modified_1950_chunk0.csv\n",
      "Writing chunk 1 file to ./data/NCEI/modified/daily/modified_1950_chunk1.csv\n",
      "Writing chunk 2 file to ./data/NCEI/modified/daily/modified_1950_chunk2.csv\n",
      "Thread started for chunk: ./data/NCEI/modified/daily/modified_1950_chunk0.csv\n",
      "Thread started for chunk: ./data/NCEI/modified/daily/modified_1950_chunk1.csv\n",
      "Thread started for chunk: ./data/NCEI/modified/daily/modified_1950_chunk2.csv\n",
      "Thread started for chunk: ./data/NCEI/modified/daily/modified_1950_chunk3.csv\n",
      "Thread for chunk ./data/NCEI/modified/daily/modified_1950_chunk3.csv completed.\n",
      "Thread for chunk ./data/NCEI/modified/daily/modified_1950_chunk2.csv completed.\n",
      "Thread for chunk ./data/NCEI/modified/daily/modified_1950_chunk0.csv completed.\n",
      "Thread for chunk ./data/NCEI/modified/daily/modified_1950_chunk1.csv completed.\n",
      "The table Climate1950 contains 18503793 rows.\n",
      "Multi-threaded insert completed.\n"
     ]
    }
   ],
   "execution_count": 9
  }
 ],
 "metadata": {
  "kernelspec": {
   "display_name": "Python 3",
   "language": "python",
   "name": "python3"
  },
  "language_info": {
   "codemirror_mode": {
    "name": "ipython",
    "version": 2
   },
   "file_extension": ".py",
   "mimetype": "text/x-python",
   "name": "python",
   "nbconvert_exporter": "python",
   "pygments_lexer": "ipython2",
   "version": "2.7.6"
  }
 },
 "nbformat": 4,
 "nbformat_minor": 5
}
