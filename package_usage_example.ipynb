{
 "cells": [
  {
   "metadata": {
    "ExecuteTime": {
     "end_time": "2024-07-14T14:24:45.858849Z",
     "start_time": "2024-07-14T14:24:45.848937Z"
    }
   },
   "cell_type": "code",
   "source": [
    "from nceiDatabaseConnector.nceiDatabasePackage.nceiDataManager import NCEIDataManager\n",
    "from nceiDatabaseConnector.nceiDatabasePackage.nceiDatabaseManager import NCEIDatabaseManager"
   ],
   "id": "60dda2497a88f077",
   "outputs": [],
   "execution_count": 7
  },
  {
   "cell_type": "code",
   "id": "initial_id",
   "metadata": {
    "collapsed": true,
    "ExecuteTime": {
     "end_time": "2024-07-14T14:23:46.969047Z",
     "start_time": "2024-07-14T14:23:46.960492Z"
    }
   },
   "source": [
    "years = [1949, 1950]\n",
    "stationsFilePath = \"./data/stations/\"\n",
    "modifiedStationsFilePath = \"./data/stations/modifiedStations/\"\n",
    "downloadCSVFilePath = \"./data/NCEI/ghcn/daily/\"\n",
    "modifiedCSVFilePath = \"./data/NCEI/modified/daily/\"\n",
    "dbname = \"NCEIDatabase\"\n",
    "dbuser = \"ESDP\"\n",
    "dbpassword = \"esdp1\"\n"
   ],
   "outputs": [],
   "execution_count": 2
  },
  {
   "metadata": {
    "ExecuteTime": {
     "end_time": "2024-07-14T14:23:47.770072Z",
     "start_time": "2024-07-14T14:23:47.761726Z"
    }
   },
   "cell_type": "code",
   "source": [
    "#This command writes the dbname, dbuser and dbpassword to an env file which is used by the docker-container during postgresql setup\n",
    "envVariables = {\n",
    "    \"DATABASE_NAME\": dbname,\n",
    "    \"DATABASE_USER\": dbuser,\n",
    "    \"DATABASE_PASSWORD\": dbpassword,\n",
    "}\n",
    "\n",
    "with open(\".env\", \"w\") as env_file:\n",
    "    for key, value in envVariables.items():\n",
    "        env_file.write(f\"{key}={value}\\n\")\n",
    "\n",
    "print(\".env file created successfully.\")\n"
   ],
   "id": "be1e43fa0993ce4b",
   "outputs": [
    {
     "name": "stdout",
     "output_type": "stream",
     "text": [
      ".env file created successfully.\n"
     ]
    }
   ],
   "execution_count": 3
  },
  {
   "metadata": {
    "ExecuteTime": {
     "end_time": "2024-07-14T14:24:13.694868Z",
     "start_time": "2024-07-14T14:23:55.424622Z"
    }
   },
   "cell_type": "code",
   "source": "!docker-compose up -d --build",
   "id": "37a2255f3ffb639c",
   "outputs": [
    {
     "name": "stderr",
     "output_type": "stream",
     "text": [
      "time=\"2024-07-14T16:23:55+02:00\" level=warning msg=\"C:\\\\Users\\\\maoka\\\\git\\\\ESDP1\\\\ESDP1-Database-Project\\\\docker-compose.yml: `version` is obsolete\"\n",
      " db Pulling \n",
      " f11c1adaa26e Already exists \n",
      " c6b688afad2e Pulling fs layer \n",
      " f6d70e97186b Pulling fs layer \n",
      " 246958d29894 Pulling fs layer \n",
      " c64818568d3a Pulling fs layer \n",
      " 2c335c6a7935 Pulling fs layer \n",
      " 145b5e9cd524 Pulling fs layer \n",
      " cfc8b42404e5 Pulling fs layer \n",
      " 78dbb4fc9a76 Pulling fs layer \n",
      " 0641d6cf5811 Pulling fs layer \n",
      " c55593ecee10 Pulling fs layer \n",
      " 11359d946b32 Pulling fs layer \n",
      " eba43f6d3d21 Pulling fs layer \n",
      " 145b5e9cd524 Waiting \n",
      " cfc8b42404e5 Waiting \n",
      " 65e659b35276 Pulling fs layer \n",
      " 78dbb4fc9a76 Waiting \n",
      " 11359d946b32 Waiting \n",
      " 65e659b35276 Waiting \n",
      " eba43f6d3d21 Waiting \n",
      " c64818568d3a Waiting \n",
      " 0641d6cf5811 Waiting \n",
      " 2c335c6a7935 Waiting \n",
      " c55593ecee10 Waiting \n",
      " f6d70e97186b Downloading [>                                                  ]  45.72kB/4.534MB\n",
      " 246958d29894 Downloading [>                                                  ]  15.78kB/1.447MB\n",
      " c6b688afad2e Downloading [==============================>                    ]     720B/1.164kB\n",
      " c6b688afad2e Downloading [==================================================>]  1.164kB/1.164kB\n",
      " c6b688afad2e Verifying Checksum \n",
      " c6b688afad2e Download complete \n",
      " c6b688afad2e Extracting [==================================================>]  1.164kB/1.164kB\n",
      " c6b688afad2e Extracting [==================================================>]  1.164kB/1.164kB\n",
      " f6d70e97186b Downloading [========>                                          ]    756kB/4.534MB\n",
      " c6b688afad2e Pull complete \n",
      " 246958d29894 Downloading [==================>                                ]  539.9kB/1.447MB\n",
      " f6d70e97186b Downloading [===============>                                   ]  1.403MB/4.534MB\n",
      " 246958d29894 Downloading [==============================>                    ]    884kB/1.447MB\n",
      " 246958d29894 Verifying Checksum \n",
      " 246958d29894 Download complete \n",
      " f6d70e97186b Downloading [===========================>                       ]  2.489MB/4.534MB\n",
      " f6d70e97186b Downloading [=====================================>             ]  3.423MB/4.534MB\n",
      " f6d70e97186b Verifying Checksum \n",
      " f6d70e97186b Download complete \n",
      " f6d70e97186b Extracting [>                                                  ]  65.54kB/4.534MB\n",
      " f6d70e97186b Extracting [==============================>                    ]  2.753MB/4.534MB\n",
      " c64818568d3a Downloading [>                                                  ]  81.54kB/8.066MB\n",
      " f6d70e97186b Extracting [==================================================>]  4.534MB/4.534MB\n",
      " 2c335c6a7935 Downloading [>                                                  ]  12.32kB/1.196MB\n",
      " c64818568d3a Downloading [===>                                               ]  576.8kB/8.066MB\n",
      " f6d70e97186b Pull complete \n",
      " 246958d29894 Extracting [=>                                                 ]  32.77kB/1.447MB\n",
      " 246958d29894 Extracting [==================================================>]  1.447MB/1.447MB\n",
      " 246958d29894 Pull complete \n",
      " 2c335c6a7935 Downloading [=====================>                             ]  522.5kB/1.196MB\n",
      " c64818568d3a Downloading [=====>                                             ]  904.4kB/8.066MB\n",
      " 2c335c6a7935 Downloading [=========================================>         ]  981.3kB/1.196MB\n",
      " c64818568d3a Downloading [=======>                                           ]  1.232MB/8.066MB\n",
      " 2c335c6a7935 Verifying Checksum \n",
      " 2c335c6a7935 Download complete \n",
      " c64818568d3a Downloading [=============>                                     ]  2.132MB/8.066MB\n",
      " c64818568d3a Downloading [=================>                                 ]   2.87MB/8.066MB\n",
      " c64818568d3a Downloading [========================>                          ]  3.873MB/8.066MB\n",
      " 145b5e9cd524 Downloading [==================================================>]     116B/116B\n",
      " 145b5e9cd524 Verifying Checksum \n",
      " 145b5e9cd524 Download complete \n",
      " c64818568d3a Downloading [==============================>                    ]   4.86MB/8.066MB\n",
      " c64818568d3a Downloading [====================================>              ]  5.925MB/8.066MB\n",
      " cfc8b42404e5 Downloading [===========>                                       ]     720B/3.138kB\n",
      " cfc8b42404e5 Downloading [==================================================>]  3.138kB/3.138kB\n",
      " cfc8b42404e5 Verifying Checksum \n",
      " cfc8b42404e5 Download complete \n",
      " c64818568d3a Downloading [===========================================>       ]  7.084MB/8.066MB\n",
      " c64818568d3a Downloading [==================================================>]  8.066MB/8.066MB\n",
      " c64818568d3a Verifying Checksum \n",
      " c64818568d3a Download complete \n",
      " c64818568d3a Extracting [>                                                  ]   98.3kB/8.066MB\n",
      " c64818568d3a Extracting [=================>                                 ]  2.851MB/8.066MB\n",
      " c64818568d3a Extracting [===========================>                       ]  4.424MB/8.066MB\n",
      " 78dbb4fc9a76 Downloading [>                                                  ]  539.9kB/104.5MB\n",
      " c64818568d3a Extracting [================================>                  ]  5.308MB/8.066MB\n",
      " 78dbb4fc9a76 Downloading [=>                                                 ]   2.15MB/104.5MB\n",
      " c64818568d3a Extracting [========================================>          ]  6.488MB/8.066MB\n",
      " 0641d6cf5811 Downloading [===>                                               ]     720B/9.351kB\n",
      " 0641d6cf5811 Downloading [==================================================>]  9.351kB/9.351kB\n",
      " 0641d6cf5811 Verifying Checksum \n",
      " 0641d6cf5811 Download complete \n",
      " c64818568d3a Extracting [==================================================>]  8.066MB/8.066MB\n",
      " 78dbb4fc9a76 Downloading [=>                                                 ]  3.738MB/104.5MB\n",
      " c64818568d3a Pull complete \n",
      " 2c335c6a7935 Extracting [=>                                                 ]  32.77kB/1.196MB\n",
      " c55593ecee10 Downloading [==================================================>]     129B/129B\n",
      " c55593ecee10 Verifying Checksum \n",
      " c55593ecee10 Download complete \n",
      " 2c335c6a7935 Extracting [==================================================>]  1.196MB/1.196MB\n",
      " 2c335c6a7935 Extracting [==================================================>]  1.196MB/1.196MB\n",
      " 2c335c6a7935 Pull complete \n",
      " 78dbb4fc9a76 Downloading [==>                                                ]  5.348MB/104.5MB\n",
      " 145b5e9cd524 Extracting [==================================================>]     116B/116B\n",
      " 145b5e9cd524 Extracting [==================================================>]     116B/116B\n",
      " 145b5e9cd524 Pull complete \n",
      " cfc8b42404e5 Extracting [==================================================>]  3.138kB/3.138kB\n",
      " cfc8b42404e5 Extracting [==================================================>]  3.138kB/3.138kB\n",
      " cfc8b42404e5 Pull complete \n",
      " 78dbb4fc9a76 Downloading [===>                                               ]  6.421MB/104.5MB\n",
      " 78dbb4fc9a76 Downloading [===>                                               ]  8.043MB/104.5MB\n",
      " 78dbb4fc9a76 Downloading [====>                                              ]   9.12MB/104.5MB\n",
      " 11359d946b32 Downloading [==================================================>]     169B/169B\n",
      " 11359d946b32 Download complete \n",
      " 78dbb4fc9a76 Downloading [=====>                                             ]  10.73MB/104.5MB\n",
      " 78dbb4fc9a76 Downloading [=====>                                             ]  11.81MB/104.5MB\n",
      " 78dbb4fc9a76 Downloading [======>                                            ]  13.42MB/104.5MB\n",
      " eba43f6d3d21 Downloading [======>                                            ]     720B/5.418kB\n",
      " eba43f6d3d21 Downloading [==================================================>]  5.418kB/5.418kB\n",
      " eba43f6d3d21 Verifying Checksum \n",
      " eba43f6d3d21 Download complete \n",
      " 78dbb4fc9a76 Downloading [=======>                                           ]  15.57MB/104.5MB\n",
      " 78dbb4fc9a76 Downloading [========>                                          ]  17.19MB/104.5MB\n",
      " 78dbb4fc9a76 Downloading [========>                                          ]  18.81MB/104.5MB\n",
      " 65e659b35276 Downloading [==================================================>]     186B/186B\n",
      " 65e659b35276 Verifying Checksum \n",
      " 65e659b35276 Download complete \n",
      " 78dbb4fc9a76 Downloading [=========>                                         ]  19.89MB/104.5MB\n",
      " 78dbb4fc9a76 Downloading [==========>                                        ]  22.04MB/104.5MB\n",
      " 78dbb4fc9a76 Downloading [===========>                                       ]  23.11MB/104.5MB\n",
      " 78dbb4fc9a76 Downloading [============>                                      ]  25.26MB/104.5MB\n",
      " 78dbb4fc9a76 Downloading [============>                                      ]  26.87MB/104.5MB\n",
      " 78dbb4fc9a76 Downloading [=============>                                     ]   27.4MB/104.5MB\n",
      " 78dbb4fc9a76 Downloading [==============>                                    ]  29.56MB/104.5MB\n",
      " 78dbb4fc9a76 Downloading [==============>                                    ]  31.18MB/104.5MB\n",
      " 78dbb4fc9a76 Downloading [===============>                                   ]  32.78MB/104.5MB\n",
      " 78dbb4fc9a76 Downloading [================>                                  ]  34.38MB/104.5MB\n",
      " 78dbb4fc9a76 Downloading [================>                                  ]  35.45MB/104.5MB\n",
      " 78dbb4fc9a76 Downloading [=================>                                 ]  37.07MB/104.5MB\n",
      " 78dbb4fc9a76 Downloading [==================>                                ]  38.14MB/104.5MB\n",
      " 78dbb4fc9a76 Downloading [===================>                               ]  39.75MB/104.5MB\n",
      " 78dbb4fc9a76 Downloading [===================>                               ]  41.37MB/104.5MB\n",
      " 78dbb4fc9a76 Downloading [====================>                              ]  42.97MB/104.5MB\n",
      " 78dbb4fc9a76 Downloading [=====================>                             ]  44.05MB/104.5MB\n",
      " 78dbb4fc9a76 Downloading [=====================>                             ]  45.66MB/104.5MB\n",
      " 78dbb4fc9a76 Downloading [======================>                            ]  47.27MB/104.5MB\n",
      " 78dbb4fc9a76 Downloading [=======================>                           ]   48.9MB/104.5MB\n",
      " 78dbb4fc9a76 Downloading [=======================>                           ]  49.97MB/104.5MB\n",
      " 78dbb4fc9a76 Downloading [========================>                          ]   51.6MB/104.5MB\n",
      " 78dbb4fc9a76 Downloading [=========================>                         ]   53.2MB/104.5MB\n",
      " 78dbb4fc9a76 Downloading [==========================>                        ]  54.81MB/104.5MB\n",
      " 78dbb4fc9a76 Downloading [==========================>                        ]  56.42MB/104.5MB\n",
      " 78dbb4fc9a76 Downloading [===========================>                       ]  56.96MB/104.5MB\n",
      " 78dbb4fc9a76 Downloading [===========================>                       ]  58.03MB/104.5MB\n",
      " 78dbb4fc9a76 Downloading [============================>                      ]  60.19MB/104.5MB\n",
      " 78dbb4fc9a76 Downloading [=============================>                     ]  61.81MB/104.5MB\n",
      " 78dbb4fc9a76 Downloading [==============================>                    ]  63.42MB/104.5MB\n",
      " 78dbb4fc9a76 Downloading [==============================>                    ]   64.5MB/104.5MB\n",
      " 78dbb4fc9a76 Downloading [===============================>                   ]  66.11MB/104.5MB\n",
      " 78dbb4fc9a76 Downloading [================================>                  ]  67.73MB/104.5MB\n",
      " 78dbb4fc9a76 Downloading [================================>                  ]   68.8MB/104.5MB\n",
      " 78dbb4fc9a76 Downloading [==================================>                ]  72.03MB/104.5MB\n",
      " 78dbb4fc9a76 Downloading [===================================>               ]  73.64MB/104.5MB\n",
      " 78dbb4fc9a76 Downloading [===================================>               ]  74.18MB/104.5MB\n",
      " 78dbb4fc9a76 Downloading [====================================>              ]  76.34MB/104.5MB\n",
      " 78dbb4fc9a76 Downloading [=====================================>             ]  77.95MB/104.5MB\n",
      " 78dbb4fc9a76 Downloading [======================================>            ]  79.56MB/104.5MB\n",
      " 78dbb4fc9a76 Downloading [======================================>            ]  80.63MB/104.5MB\n",
      " 78dbb4fc9a76 Downloading [=======================================>           ]  82.25MB/104.5MB\n",
      " 78dbb4fc9a76 Downloading [=======================================>           ]  82.79MB/104.5MB\n",
      " 78dbb4fc9a76 Downloading [========================================>          ]  84.95MB/104.5MB\n",
      " 78dbb4fc9a76 Downloading [=========================================>         ]   87.1MB/104.5MB\n",
      " 78dbb4fc9a76 Downloading [==========================================>        ]  89.27MB/104.5MB\n",
      " 78dbb4fc9a76 Downloading [===========================================>       ]  90.34MB/104.5MB\n",
      " 78dbb4fc9a76 Downloading [===========================================>       ]  91.96MB/104.5MB\n",
      " 78dbb4fc9a76 Downloading [============================================>      ]  93.03MB/104.5MB\n",
      " 78dbb4fc9a76 Downloading [=============================================>     ]  94.65MB/104.5MB\n",
      " 78dbb4fc9a76 Downloading [==============================================>    ]  96.26MB/104.5MB\n",
      " 78dbb4fc9a76 Downloading [===============================================>   ]   98.4MB/104.5MB\n",
      " 78dbb4fc9a76 Downloading [===============================================>   ]    100MB/104.5MB\n",
      " 78dbb4fc9a76 Downloading [================================================>  ]  101.6MB/104.5MB\n",
      " 78dbb4fc9a76 Downloading [=================================================> ]  102.7MB/104.5MB\n",
      " 78dbb4fc9a76 Downloading [=================================================> ]  103.8MB/104.5MB\n",
      " 78dbb4fc9a76 Verifying Checksum \n",
      " 78dbb4fc9a76 Download complete \n",
      " 78dbb4fc9a76 Extracting [>                                                  ]  557.1kB/104.5MB\n",
      " 78dbb4fc9a76 Extracting [==>                                                ]  5.571MB/104.5MB\n",
      " 78dbb4fc9a76 Extracting [===>                                               ]  8.356MB/104.5MB\n",
      " 78dbb4fc9a76 Extracting [=====>                                             ]   11.7MB/104.5MB\n",
      " 78dbb4fc9a76 Extracting [=======>                                           ]   15.6MB/104.5MB\n",
      " 78dbb4fc9a76 Extracting [=========>                                         ]   19.5MB/104.5MB\n",
      " 78dbb4fc9a76 Extracting [==========>                                        ]  22.28MB/104.5MB\n",
      " 78dbb4fc9a76 Extracting [===========>                                       ]  23.95MB/104.5MB\n",
      " 78dbb4fc9a76 Extracting [=============>                                     ]  28.97MB/104.5MB\n",
      " 78dbb4fc9a76 Extracting [================>                                  ]  35.09MB/104.5MB\n",
      " 78dbb4fc9a76 Extracting [===================>                               ]  40.67MB/104.5MB\n",
      " 78dbb4fc9a76 Extracting [======================>                            ]  46.79MB/104.5MB\n",
      " 78dbb4fc9a76 Extracting [=======================>                           ]  49.58MB/104.5MB\n",
      " 78dbb4fc9a76 Extracting [========================>                          ]  51.81MB/104.5MB\n",
      " 78dbb4fc9a76 Extracting [==========================>                        ]  56.26MB/104.5MB\n",
      " 78dbb4fc9a76 Extracting [=============================>                     ]  62.39MB/104.5MB\n",
      " 78dbb4fc9a76 Extracting [=================================>                 ]  70.75MB/104.5MB\n",
      " 78dbb4fc9a76 Extracting [=====================================>             ]  77.99MB/104.5MB\n",
      " 78dbb4fc9a76 Extracting [=========================================>         ]  85.79MB/104.5MB\n",
      " 78dbb4fc9a76 Extracting [===========================================>       ]  90.24MB/104.5MB\n",
      " 78dbb4fc9a76 Extracting [============================================>      ]  93.59MB/104.5MB\n",
      " 78dbb4fc9a76 Extracting [==============================================>    ]  96.37MB/104.5MB\n",
      " 78dbb4fc9a76 Extracting [===============================================>   ]  99.16MB/104.5MB\n",
      " 78dbb4fc9a76 Extracting [================================================>  ]  100.8MB/104.5MB\n",
      " 78dbb4fc9a76 Extracting [=================================================> ]  103.1MB/104.5MB\n",
      " 78dbb4fc9a76 Extracting [==================================================>]  104.5MB/104.5MB\n",
      " 78dbb4fc9a76 Pull complete \n",
      " 0641d6cf5811 Extracting [==================================================>]  9.351kB/9.351kB\n",
      " 0641d6cf5811 Extracting [==================================================>]  9.351kB/9.351kB\n",
      " 0641d6cf5811 Pull complete \n",
      " c55593ecee10 Extracting [==================================================>]     129B/129B\n",
      " c55593ecee10 Extracting [==================================================>]     129B/129B\n",
      " c55593ecee10 Pull complete \n",
      " 11359d946b32 Extracting [==================================================>]     169B/169B\n",
      " 11359d946b32 Extracting [==================================================>]     169B/169B\n",
      " 11359d946b32 Pull complete \n",
      " eba43f6d3d21 Extracting [==================================================>]  5.418kB/5.418kB\n",
      " eba43f6d3d21 Extracting [==================================================>]  5.418kB/5.418kB\n",
      " eba43f6d3d21 Pull complete \n",
      " 65e659b35276 Extracting [==================================================>]     186B/186B\n",
      " 65e659b35276 Extracting [==================================================>]     186B/186B\n",
      " 65e659b35276 Pull complete \n",
      " db Pulled \n",
      " Network esdp1-database-project_default  Creating\n",
      " Network esdp1-database-project_default  Created\n",
      " Volume \"esdp1-database-project_postgres_data\"  Creating\n",
      " Volume \"esdp1-database-project_postgres_data\"  Created\n",
      " Container esdp1-database-project-db-1  Creating\n",
      " Container esdp1-database-project-db-1  Created\n",
      " Container esdp1-database-project-db-1  Starting\n",
      " Container esdp1-database-project-db-1  Started\n"
     ]
    }
   ],
   "execution_count": 5
  },
  {
   "metadata": {
    "ExecuteTime": {
     "end_time": "2024-07-14T14:24:22.899828Z",
     "start_time": "2024-07-14T14:24:22.892397Z"
    }
   },
   "cell_type": "code",
   "source": [
    "#httpsLink = \"https://www.ncei.noaa.gov/pub/data/ghcn/daily/by_year/\"\n",
    "#possible_years = np.arange(1949, 2020, 1)\n",
    "host = \"localhost\"\n",
    "port = \"5432\"\n",
    "\n",
    "#this defines the names of the columns in the postgresql database\n",
    "stationCols = [\"id\", \"latitude\", \"longitude\", \"elevation\", \"state\", \"name\", \"gsn_flag\", \"hcn_crn_flag\", \"wmo_id\"]\n",
    "weatherCols = [\"id\", \"stationcode\", \"datelabel\", \"param\", \"value\", \"mflag\", \"qflag\", \"sflag\", \"time\"]\n"
   ],
   "id": "972c0b28b1caa833",
   "outputs": [],
   "execution_count": 6
  },
  {
   "metadata": {
    "ExecuteTime": {
     "end_time": "2024-07-14T14:24:51.689838Z",
     "start_time": "2024-07-14T14:24:51.646958Z"
    }
   },
   "cell_type": "code",
   "source": [
    "dataManager = NCEIDataManager()\n",
    "nceiDatabaseManager = NCEIDatabaseManager(db_name=dbname, db_user=dbuser, db_password=dbpassword, db_host=host, db_port=port)"
   ],
   "id": "532cd98f189f1923",
   "outputs": [
    {
     "name": "stdout",
     "output_type": "stream",
     "text": [
      "Connected to database NCEIDatabase with user ESDP\n"
     ]
    }
   ],
   "execution_count": 8
  },
  {
   "metadata": {
    "ExecuteTime": {
     "end_time": "2024-07-14T14:25:33.582432Z",
     "start_time": "2024-07-14T14:25:30.096069Z"
    }
   },
   "cell_type": "code",
   "source": "dataManager.download_stations(stationsFilePath)",
   "id": "a0470fb1dfb00222",
   "outputs": [
    {
     "name": "stdout",
     "output_type": "stream",
     "text": [
      "Data downloaded. Will be saved as ghcnd-stations.txt in ./data/stations/\n",
      "Data downloaded. Will be saved as readme.txt in ./data/stations/\n",
      "Data downloaded and saved in ./data/stations/\n"
     ]
    }
   ],
   "execution_count": 9
  },
  {
   "metadata": {
    "ExecuteTime": {
     "end_time": "2024-07-14T14:26:12.674786Z",
     "start_time": "2024-07-14T14:26:11.390836Z"
    }
   },
   "cell_type": "code",
   "source": "dataManager.convert_stations(stationsFilePath, modifiedStationsFilePath)",
   "id": "61a506b685a9bd86",
   "outputs": [
    {
     "name": "stdout",
     "output_type": "stream",
     "text": [
      "Saved the modified stations file to ./data/stations/modifiedStations//modified_stations.csv\n"
     ]
    }
   ],
   "execution_count": 10
  },
  {
   "metadata": {
    "ExecuteTime": {
     "end_time": "2024-07-14T14:30:01.981970Z",
     "start_time": "2024-07-14T14:29:18.366784Z"
    }
   },
   "cell_type": "code",
   "source": "dataManager.download_years(years, downloadCSVFilePath)",
   "id": "f978574a926f96b2",
   "outputs": [
    {
     "name": "stdout",
     "output_type": "stream",
     "text": [
      "...Downloading data from year 1949....\n",
      "Data downloaded. Will be saved as 1949.csv.gz\n",
      "Data from year 1949 downloaded and saved.\n",
      "...Downloading data from year 1950....\n",
      "Data downloaded. Will be saved as 1950.csv.gz\n",
      "Data from year 1950 downloaded and saved.\n"
     ]
    }
   ],
   "execution_count": 11
  },
  {
   "metadata": {
    "ExecuteTime": {
     "end_time": "2024-07-14T14:33:57.827627Z",
     "start_time": "2024-07-14T14:30:24.627075Z"
    }
   },
   "cell_type": "code",
   "source": "dataManager.export_downloaded_years(years, downloadCSVFilePath, modifiedCSVFilePath)",
   "id": "d51c7a7782f8f82b",
   "outputs": [
    {
     "name": "stdout",
     "output_type": "stream",
     "text": [
      "...Year 1949 processing...\n",
      "Loading data from year 1949\n",
      "Data from year 1949 loaded.\n",
      "Export of year 1949 finished.\n",
      "...Year 1950 processing...\n",
      "Loading data from year 1950\n",
      "Data from year 1950 loaded.\n",
      "Export of year 1950 finished.\n"
     ]
    }
   ],
   "execution_count": 12
  },
  {
   "metadata": {
    "ExecuteTime": {
     "end_time": "2024-07-14T14:40:32.996271Z",
     "start_time": "2024-07-14T14:40:32.855070Z"
    }
   },
   "cell_type": "code",
   "source": "nceiDatabaseManager.create_stations_table()",
   "id": "6fd2f22697c7303b",
   "outputs": [
    {
     "name": "stdout",
     "output_type": "stream",
     "text": [
      "Station table created.\n"
     ]
    }
   ],
   "execution_count": 13
  },
  {
   "metadata": {},
   "cell_type": "code",
   "outputs": [],
   "execution_count": null,
   "source": "nceiDatabaseManager.insert_copy()",
   "id": "b82905d4652074b2"
  }
 ],
 "metadata": {
  "kernelspec": {
   "display_name": "Python 3",
   "language": "python",
   "name": "python3"
  },
  "language_info": {
   "codemirror_mode": {
    "name": "ipython",
    "version": 2
   },
   "file_extension": ".py",
   "mimetype": "text/x-python",
   "name": "python",
   "nbconvert_exporter": "python",
   "pygments_lexer": "ipython2",
   "version": "2.7.6"
  }
 },
 "nbformat": 4,
 "nbformat_minor": 5
}
